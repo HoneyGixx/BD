{
 "cells": [
  {
   "cell_type": "code",
   "execution_count": 1,
   "id": "f0d34846",
   "metadata": {},
   "outputs": [],
   "source": [
    "from flask import Flask, render_template, request, flash, redirect\n",
    "import os \n",
    "import pyodbc\n",
    "import codecs\n",
    "import subprocess"
   ]
  },
  {
   "cell_type": "code",
   "execution_count": 78,
   "id": "199e428a",
   "metadata": {},
   "outputs": [
    {
     "name": "stdout",
     "output_type": "stream",
     "text": [
      "filling database...2\n",
      "filling database...4\n",
      "filling database...5\n"
     ]
    }
   ],
   "source": [
    "with pyodbc.connect('Driver={SQL Server};'\n",
    "                      'Server=WIN-01PF0KTEPI9;'\n",
    "                      'Database=ngram;'\n",
    "                      'Trusted_Connection=yes;') as conn:\n",
    "        print('filling database...2')\n",
    "        cursor = conn.cursor()\n",
    "        print('filling database...4')\n",
    "        cursor.execute(\"\"\"insert into  dbo.Text(Text, Phrase) values ('Я видел сегодня большой Американский белый дом', 'белый дом')\"\"\")    \n",
    "        print('filling database...5')\n",
    "        cursor.commit()"
   ]
  },
  {
   "cell_type": "code",
   "execution_count": 4,
   "id": "2d84f091",
   "metadata": {},
   "outputs": [],
   "source": [
    "def fill_db(phrase):\n",
    "    print('filling database...1')\n",
    "    with pyodbc.connect('Driver={SQL Server};'\n",
    "                      'Server=WIN-01PF0KTEPI9;'\n",
    "                      'Database=ngram;'\n",
    "                      'Trusted_Connection=yes;') as conn:\n",
    "        print('filling database...2')\n",
    "        cursor = conn.cursor()\n",
    "        print('filling database...4')\n",
    "        cursor.executemany(\"\"\"insert into  dbo.Text(Text, Phrase) values ( ?, ?)\"\"\", phrase)    \n",
    "        print('filling database...5')\n",
    "        cursor.commit()"
   ]
  },
  {
   "cell_type": "code",
   "execution_count": 5,
   "id": "a2629c8f",
   "metadata": {},
   "outputs": [
    {
     "name": "stdout",
     "output_type": "stream",
     "text": [
      "filling database...1\n",
      "filling database...2\n",
      "filling database...4\n",
      "filling database...5\n"
     ]
    }
   ],
   "source": [
    "tt = ('Я ем вкусную шоколадку', 'вкусную шоколадку')\n",
    "fill_db([tt])"
   ]
  },
  {
   "cell_type": "code",
   "execution_count": 6,
   "id": "940cc308",
   "metadata": {},
   "outputs": [
    {
     "name": "stdout",
     "output_type": "stream",
     "text": [
      "('Я ем вкусную шоколадку', 'вкусную шоколадку')\n"
     ]
    }
   ],
   "source": [
    "print(tt)"
   ]
  },
  {
   "cell_type": "code",
   "execution_count": 7,
   "id": "7ff8623e",
   "metadata": {},
   "outputs": [
    {
     "name": "stdout",
     "output_type": "stream",
     "text": [
      "[(2, 'Я ем вкусную шоколадку', 'вкусную шоколадку                                                                                                                                                                                                                                             '), (4, 'Я ем вкусную шоколадку', 'вкусную шоколадку                                                                                                                                                                                                                                             ')]\n"
     ]
    }
   ],
   "source": [
    "with pyodbc.connect('Driver={SQL Server};'\n",
    "                      'Server=WIN-01PF0KTEPI9;'\n",
    "                      'Database=ngram;'\n",
    "                      'Trusted_Connection=yes;') as conn:\n",
    "        cursor = conn.cursor()\n",
    "        cursor.execute(\"\"\"SELECT * FROM dbo.Text where Phrase = 'вкусную шоколадку'\"\"\")   \n",
    "        #cursor.commit()\n",
    "        records = cursor.fetchall()\n",
    "\n",
    "print(records)"
   ]
  },
  {
   "cell_type": "code",
   "execution_count": 7,
   "id": "40b7ab7b",
   "metadata": {},
   "outputs": [],
   "source": [
    "import nltk \n",
    "import requests\n",
    "import html5lib\n",
    "import lxml\n",
    "from bs4 import BeautifulSoup\n",
    "import subprocess\n",
    "import pandas as pd\n",
    "from bs4 import BeautifulSoup"
   ]
  },
  {
   "cell_type": "code",
   "execution_count": 3,
   "id": "eac17519",
   "metadata": {},
   "outputs": [
    {
     "ename": "ValueError",
     "evalue": "No tables found",
     "output_type": "error",
     "traceback": [
      "\u001b[1;31m---------------------------------------------------------------------------\u001b[0m",
      "\u001b[1;31mValueError\u001b[0m                                Traceback (most recent call last)",
      "Cell \u001b[1;32mIn[3], line 4\u001b[0m\n\u001b[0;32m      2\u001b[0m \u001b[38;5;28;01mwith\u001b[39;00m \u001b[38;5;28mopen\u001b[39m(\u001b[38;5;124m'\u001b[39m\u001b[38;5;124mtest.html\u001b[39m\u001b[38;5;124m'\u001b[39m, encoding\u001b[38;5;241m=\u001b[39m\u001b[38;5;124m\"\u001b[39m\u001b[38;5;124mutf-8\u001b[39m\u001b[38;5;124m\"\u001b[39m) \u001b[38;5;28;01mas\u001b[39;00m file:\n\u001b[0;32m      3\u001b[0m     soup \u001b[38;5;241m=\u001b[39m BeautifulSoup(file, \u001b[38;5;124m'\u001b[39m\u001b[38;5;124mhtml.parser\u001b[39m\u001b[38;5;124m'\u001b[39m)\n\u001b[1;32m----> 4\u001b[0m tables \u001b[38;5;241m=\u001b[39m pd\u001b[38;5;241m.\u001b[39mread_html(\u001b[38;5;28mstr\u001b[39m(soup))\n",
      "File \u001b[1;32mD:\\Python\\Lib\\site-packages\\pandas\\util\\_decorators.py:331\u001b[0m, in \u001b[0;36mdeprecate_nonkeyword_arguments.<locals>.decorate.<locals>.wrapper\u001b[1;34m(*args, **kwargs)\u001b[0m\n\u001b[0;32m    325\u001b[0m \u001b[38;5;28;01mif\u001b[39;00m \u001b[38;5;28mlen\u001b[39m(args) \u001b[38;5;241m>\u001b[39m num_allow_args:\n\u001b[0;32m    326\u001b[0m     warnings\u001b[38;5;241m.\u001b[39mwarn(\n\u001b[0;32m    327\u001b[0m         msg\u001b[38;5;241m.\u001b[39mformat(arguments\u001b[38;5;241m=\u001b[39m_format_argument_list(allow_args)),\n\u001b[0;32m    328\u001b[0m         \u001b[38;5;167;01mFutureWarning\u001b[39;00m,\n\u001b[0;32m    329\u001b[0m         stacklevel\u001b[38;5;241m=\u001b[39mfind_stack_level(),\n\u001b[0;32m    330\u001b[0m     )\n\u001b[1;32m--> 331\u001b[0m \u001b[38;5;28;01mreturn\u001b[39;00m func(\u001b[38;5;241m*\u001b[39margs, \u001b[38;5;241m*\u001b[39m\u001b[38;5;241m*\u001b[39mkwargs)\n",
      "File \u001b[1;32mD:\\Python\\Lib\\site-packages\\pandas\\io\\html.py:1205\u001b[0m, in \u001b[0;36mread_html\u001b[1;34m(io, match, flavor, header, index_col, skiprows, attrs, parse_dates, thousands, encoding, decimal, converters, na_values, keep_default_na, displayed_only, extract_links)\u001b[0m\n\u001b[0;32m   1201\u001b[0m validate_header_arg(header)\n\u001b[0;32m   1203\u001b[0m io \u001b[38;5;241m=\u001b[39m stringify_path(io)\n\u001b[1;32m-> 1205\u001b[0m \u001b[38;5;28;01mreturn\u001b[39;00m _parse(\n\u001b[0;32m   1206\u001b[0m     flavor\u001b[38;5;241m=\u001b[39mflavor,\n\u001b[0;32m   1207\u001b[0m     io\u001b[38;5;241m=\u001b[39mio,\n\u001b[0;32m   1208\u001b[0m     match\u001b[38;5;241m=\u001b[39mmatch,\n\u001b[0;32m   1209\u001b[0m     header\u001b[38;5;241m=\u001b[39mheader,\n\u001b[0;32m   1210\u001b[0m     index_col\u001b[38;5;241m=\u001b[39mindex_col,\n\u001b[0;32m   1211\u001b[0m     skiprows\u001b[38;5;241m=\u001b[39mskiprows,\n\u001b[0;32m   1212\u001b[0m     parse_dates\u001b[38;5;241m=\u001b[39mparse_dates,\n\u001b[0;32m   1213\u001b[0m     thousands\u001b[38;5;241m=\u001b[39mthousands,\n\u001b[0;32m   1214\u001b[0m     attrs\u001b[38;5;241m=\u001b[39mattrs,\n\u001b[0;32m   1215\u001b[0m     encoding\u001b[38;5;241m=\u001b[39mencoding,\n\u001b[0;32m   1216\u001b[0m     decimal\u001b[38;5;241m=\u001b[39mdecimal,\n\u001b[0;32m   1217\u001b[0m     converters\u001b[38;5;241m=\u001b[39mconverters,\n\u001b[0;32m   1218\u001b[0m     na_values\u001b[38;5;241m=\u001b[39mna_values,\n\u001b[0;32m   1219\u001b[0m     keep_default_na\u001b[38;5;241m=\u001b[39mkeep_default_na,\n\u001b[0;32m   1220\u001b[0m     displayed_only\u001b[38;5;241m=\u001b[39mdisplayed_only,\n\u001b[0;32m   1221\u001b[0m     extract_links\u001b[38;5;241m=\u001b[39mextract_links,\n\u001b[0;32m   1222\u001b[0m )\n",
      "File \u001b[1;32mD:\\Python\\Lib\\site-packages\\pandas\\io\\html.py:1006\u001b[0m, in \u001b[0;36m_parse\u001b[1;34m(flavor, io, match, attrs, encoding, displayed_only, extract_links, **kwargs)\u001b[0m\n\u001b[0;32m   1004\u001b[0m \u001b[38;5;28;01melse\u001b[39;00m:\n\u001b[0;32m   1005\u001b[0m     \u001b[38;5;28;01massert\u001b[39;00m retained \u001b[38;5;129;01mis\u001b[39;00m \u001b[38;5;129;01mnot\u001b[39;00m \u001b[38;5;28;01mNone\u001b[39;00m  \u001b[38;5;66;03m# for mypy\u001b[39;00m\n\u001b[1;32m-> 1006\u001b[0m     \u001b[38;5;28;01mraise\u001b[39;00m retained\n\u001b[0;32m   1008\u001b[0m ret \u001b[38;5;241m=\u001b[39m []\n\u001b[0;32m   1009\u001b[0m \u001b[38;5;28;01mfor\u001b[39;00m table \u001b[38;5;129;01min\u001b[39;00m tables:\n",
      "File \u001b[1;32mD:\\Python\\Lib\\site-packages\\pandas\\io\\html.py:986\u001b[0m, in \u001b[0;36m_parse\u001b[1;34m(flavor, io, match, attrs, encoding, displayed_only, extract_links, **kwargs)\u001b[0m\n\u001b[0;32m    983\u001b[0m p \u001b[38;5;241m=\u001b[39m parser(io, compiled_match, attrs, encoding, displayed_only, extract_links)\n\u001b[0;32m    985\u001b[0m \u001b[38;5;28;01mtry\u001b[39;00m:\n\u001b[1;32m--> 986\u001b[0m     tables \u001b[38;5;241m=\u001b[39m p\u001b[38;5;241m.\u001b[39mparse_tables()\n\u001b[0;32m    987\u001b[0m \u001b[38;5;28;01mexcept\u001b[39;00m \u001b[38;5;167;01mValueError\u001b[39;00m \u001b[38;5;28;01mas\u001b[39;00m caught:\n\u001b[0;32m    988\u001b[0m     \u001b[38;5;66;03m# if `io` is an io-like object, check if it's seekable\u001b[39;00m\n\u001b[0;32m    989\u001b[0m     \u001b[38;5;66;03m# and try to rewind it before trying the next parser\u001b[39;00m\n\u001b[0;32m    990\u001b[0m     \u001b[38;5;28;01mif\u001b[39;00m \u001b[38;5;28mhasattr\u001b[39m(io, \u001b[38;5;124m\"\u001b[39m\u001b[38;5;124mseekable\u001b[39m\u001b[38;5;124m\"\u001b[39m) \u001b[38;5;129;01mand\u001b[39;00m io\u001b[38;5;241m.\u001b[39mseekable():\n",
      "File \u001b[1;32mD:\\Python\\Lib\\site-packages\\pandas\\io\\html.py:262\u001b[0m, in \u001b[0;36m_HtmlFrameParser.parse_tables\u001b[1;34m(self)\u001b[0m\n\u001b[0;32m    254\u001b[0m \u001b[38;5;28;01mdef\u001b[39;00m \u001b[38;5;21mparse_tables\u001b[39m(\u001b[38;5;28mself\u001b[39m):\n\u001b[0;32m    255\u001b[0m \u001b[38;5;250m    \u001b[39m\u001b[38;5;124;03m\"\"\"\u001b[39;00m\n\u001b[0;32m    256\u001b[0m \u001b[38;5;124;03m    Parse and return all tables from the DOM.\u001b[39;00m\n\u001b[0;32m    257\u001b[0m \n\u001b[1;32m   (...)\u001b[0m\n\u001b[0;32m    260\u001b[0m \u001b[38;5;124;03m    list of parsed (header, body, footer) tuples from tables.\u001b[39;00m\n\u001b[0;32m    261\u001b[0m \u001b[38;5;124;03m    \"\"\"\u001b[39;00m\n\u001b[1;32m--> 262\u001b[0m     tables \u001b[38;5;241m=\u001b[39m \u001b[38;5;28mself\u001b[39m\u001b[38;5;241m.\u001b[39m_parse_tables(\u001b[38;5;28mself\u001b[39m\u001b[38;5;241m.\u001b[39m_build_doc(), \u001b[38;5;28mself\u001b[39m\u001b[38;5;241m.\u001b[39mmatch, \u001b[38;5;28mself\u001b[39m\u001b[38;5;241m.\u001b[39mattrs)\n\u001b[0;32m    263\u001b[0m     \u001b[38;5;28;01mreturn\u001b[39;00m (\u001b[38;5;28mself\u001b[39m\u001b[38;5;241m.\u001b[39m_parse_thead_tbody_tfoot(table) \u001b[38;5;28;01mfor\u001b[39;00m table \u001b[38;5;129;01min\u001b[39;00m tables)\n",
      "File \u001b[1;32mD:\\Python\\Lib\\site-packages\\pandas\\io\\html.py:618\u001b[0m, in \u001b[0;36m_BeautifulSoupHtml5LibFrameParser._parse_tables\u001b[1;34m(self, doc, match, attrs)\u001b[0m\n\u001b[0;32m    615\u001b[0m tables \u001b[38;5;241m=\u001b[39m doc\u001b[38;5;241m.\u001b[39mfind_all(element_name, attrs\u001b[38;5;241m=\u001b[39mattrs)\n\u001b[0;32m    617\u001b[0m \u001b[38;5;28;01mif\u001b[39;00m \u001b[38;5;129;01mnot\u001b[39;00m tables:\n\u001b[1;32m--> 618\u001b[0m     \u001b[38;5;28;01mraise\u001b[39;00m \u001b[38;5;167;01mValueError\u001b[39;00m(\u001b[38;5;124m\"\u001b[39m\u001b[38;5;124mNo tables found\u001b[39m\u001b[38;5;124m\"\u001b[39m)\n\u001b[0;32m    620\u001b[0m result \u001b[38;5;241m=\u001b[39m []\n\u001b[0;32m    621\u001b[0m unique_tables \u001b[38;5;241m=\u001b[39m \u001b[38;5;28mset\u001b[39m()\n",
      "\u001b[1;31mValueError\u001b[0m: No tables found"
     ]
    }
   ],
   "source": [
    "# Read the HTML file into a Pandas dataframe\n",
    "with open('test.html', encoding=\"utf-8\") as file:\n",
    "    soup = BeautifulSoup(file, 'html.parser')\n",
    "tables = pd.read_html(str(soup))"
   ]
  },
  {
   "cell_type": "code",
   "execution_count": 4,
   "id": "a1482179",
   "metadata": {},
   "outputs": [],
   "source": [
    "text = \"Сегодня теплый день.\""
   ]
  },
  {
   "cell_type": "code",
   "execution_count": 14,
   "id": "529d36f0",
   "metadata": {},
   "outputs": [],
   "source": [
    "with open('test.txt', 'w', encoding='utf-8') as f:\n",
    "    f.write(str(text))"
   ]
  },
  {
   "cell_type": "code",
   "execution_count": 15,
   "id": "3be44c7f",
   "metadata": {},
   "outputs": [],
   "source": [
    "def extract():\n",
    "\t#txt0 = text\n",
    "\t##\n",
    "\t#run tomita for single file \n",
    "\t#with codecs.open('tomita app/test.txt', 'w', 'utf-8') as f:\n",
    "\t#\tf.write(str(txt0))\n",
    "\t\t\n",
    "\t#cmd = [\"./tomita app/tomitaparser.exe ./tomita app/config.proto\"]\n",
    "\tcommand = ['./tomitaparser.exe', './config.proto']\n",
    "\t# Run the command and capture the output\n",
    "\toutput = subprocess.check_output(command)\n",
    "\t##\n",
    "\t#return render_template('pretty.html')"
   ]
  },
  {
   "cell_type": "code",
   "execution_count": 16,
   "id": "51490598",
   "metadata": {},
   "outputs": [],
   "source": [
    "extract()"
   ]
  },
  {
   "cell_type": "code",
   "execution_count": 5,
   "id": "4b5e7a5b",
   "metadata": {},
   "outputs": [],
   "source": [
    "def tomparce(x):\n",
    "    with open(x, encoding=\"utf-8\") as file:\n",
    "        soup = BeautifulSoup(file, 'html.parser')\n",
    "    tables = pd.read_html(str(soup))\n",
    "    return(tables)"
   ]
  },
  {
   "cell_type": "code",
   "execution_count": 8,
   "id": "cc24e1c4",
   "metadata": {},
   "outputs": [],
   "source": [
    "rslt = tomparce('./templates/pretty.html')[0]"
   ]
  },
  {
   "cell_type": "code",
   "execution_count": 9,
   "id": "8634a75f",
   "metadata": {},
   "outputs": [
    {
     "data": {
      "text/html": [
       "<div>\n",
       "<style scoped>\n",
       "    .dataframe tbody tr th:only-of-type {\n",
       "        vertical-align: middle;\n",
       "    }\n",
       "\n",
       "    .dataframe tbody tr th {\n",
       "        vertical-align: top;\n",
       "    }\n",
       "\n",
       "    .dataframe thead th {\n",
       "        text-align: right;\n",
       "    }\n",
       "</style>\n",
       "<table border=\"1\" class=\"dataframe\">\n",
       "  <thead>\n",
       "    <tr style=\"text-align: right;\">\n",
       "      <th></th>\n",
       "      <th>Text</th>\n",
       "      <th>Type</th>\n",
       "    </tr>\n",
       "  </thead>\n",
       "  <tbody>\n",
       "    <tr>\n",
       "      <th>0</th>\n",
       "      <td>теплый день</td>\n",
       "      <td>TAuxDicArticle [СущПрил]</td>\n",
       "    </tr>\n",
       "    <tr>\n",
       "      <th>1</th>\n",
       "      <td>яркий краска</td>\n",
       "      <td>TAuxDicArticle [СущПрил]</td>\n",
       "    </tr>\n",
       "    <tr>\n",
       "      <th>2</th>\n",
       "      <td>белоснежный снег</td>\n",
       "      <td>TAuxDicArticle [СущПрил]</td>\n",
       "    </tr>\n",
       "    <tr>\n",
       "      <th>3</th>\n",
       "      <td>огромный крыша</td>\n",
       "      <td>TAuxDicArticle [СущПрил]</td>\n",
       "    </tr>\n",
       "    <tr>\n",
       "      <th>4</th>\n",
       "      <td>заброшенный дом</td>\n",
       "      <td>TAuxDicArticle [СущПрил]</td>\n",
       "    </tr>\n",
       "  </tbody>\n",
       "</table>\n",
       "</div>"
      ],
      "text/plain": [
       "               Text                      Type\n",
       "0       теплый день  TAuxDicArticle [СущПрил]\n",
       "1      яркий краска  TAuxDicArticle [СущПрил]\n",
       "2  белоснежный снег  TAuxDicArticle [СущПрил]\n",
       "3    огромный крыша  TAuxDicArticle [СущПрил]\n",
       "4   заброшенный дом  TAuxDicArticle [СущПрил]"
      ]
     },
     "execution_count": 9,
     "metadata": {},
     "output_type": "execute_result"
    }
   ],
   "source": [
    "rslt"
   ]
  },
  {
   "cell_type": "code",
   "execution_count": 23,
   "id": "4f9a3a29",
   "metadata": {},
   "outputs": [
    {
     "name": "stderr",
     "output_type": "stream",
     "text": [
      "[nltk_data] Downloading package punkt to\n",
      "[nltk_data]     C:\\Users\\Gixx\\AppData\\Roaming\\nltk_data...\n",
      "[nltk_data]   Unzipping tokenizers\\punkt.zip.\n"
     ]
    },
    {
     "data": {
      "text/plain": [
       "True"
      ]
     },
     "execution_count": 23,
     "metadata": {},
     "output_type": "execute_result"
    }
   ],
   "source": [
    "nltk.download('punkt')"
   ]
  },
  {
   "cell_type": "code",
   "execution_count": 11,
   "id": "5233ac4c",
   "metadata": {},
   "outputs": [],
   "source": [
    "rslt['toks'] = rslt.apply(lambda row: nltk.word_tokenize(row['Text']), axis=1)"
   ]
  },
  {
   "cell_type": "code",
   "execution_count": 3,
   "id": "03c64e68",
   "metadata": {},
   "outputs": [
    {
     "data": {
      "text/plain": [
       "'Сегодня теплый день и солнце играет яркими красками на белоснежном снегу, покрывающим огромные крыши заброшенных домов.'"
      ]
     },
     "execution_count": 3,
     "metadata": {},
     "output_type": "execute_result"
    }
   ],
   "source": [
    "text = \"Сегодня теплый день и солнце играет яркими красками на белоснежном снегу, покрывающим огромные крыши заброшенных домов.\"\n",
    "text"
   ]
  },
  {
   "cell_type": "code",
   "execution_count": 5,
   "id": "876b4d84",
   "metadata": {},
   "outputs": [
    {
     "name": "stderr",
     "output_type": "stream",
     "text": [
      "[nltk_data] Downloading package wordnet to\n",
      "[nltk_data]     C:\\Users\\Gixx\\AppData\\Roaming\\nltk_data...\n"
     ]
    },
    {
     "data": {
      "text/plain": [
       "True"
      ]
     },
     "execution_count": 5,
     "metadata": {},
     "output_type": "execute_result"
    }
   ],
   "source": [
    "import nltk\n",
    "nltk.download('wordnet')"
   ]
  },
  {
   "cell_type": "code",
   "execution_count": 34,
   "id": "e54deca0",
   "metadata": {},
   "outputs": [],
   "source": [
    "def create_connection():\n",
    "    with pyodbc.connect('Driver={SQL Server};'\n",
    "                      'Server=WIN-01PF0KTEPI9;'\n",
    "                      'Database=ngram;'\n",
    "                      'Trusted_Connection=yes;') as conn:\n",
    "        try:\n",
    "            print('connecting to database...')\n",
    "            cursor = conn.cursor()\n",
    "            print(\"Connection to DB successful\")\n",
    "        except Error as e:\n",
    "            print(f\"The error '{e}' occurred\")\n",
    "        return cursor"
   ]
  },
  {
   "cell_type": "code",
   "execution_count": 35,
   "id": "7fa8a7ef",
   "metadata": {},
   "outputs": [
    {
     "name": "stdout",
     "output_type": "stream",
     "text": [
      "connecting to database...\n",
      "Connection to DB successful\n"
     ]
    }
   ],
   "source": [
    "connection = create_connection()"
   ]
  },
  {
   "cell_type": "code",
   "execution_count": 8,
   "id": "a11c0696",
   "metadata": {},
   "outputs": [],
   "source": [
    "#Execute SQL write to DB\n",
    "def execute_write_query(connection, text):\n",
    "    for d in text:\n",
    "        print(d)\n",
    "    cursor.execute(\" insert into dbo.Text(dbo.Text, Phrase) values (?, ?) \", d)\n",
    "    cursor.commit()"
   ]
  },
  {
   "cell_type": "code",
   "execution_count": 45,
   "id": "d1d662bf",
   "metadata": {},
   "outputs": [],
   "source": [
    "def execute_write_pos(connection, text, phrase):\n",
    "    #cursor = connection.cursor()\n",
    "    #TId = execute_read_query(connection, \"\"\"SELECT TOP 1 IDText FROM ngram.dbo.Text ORDER BY IDText DESC\"\"\")\n",
    "    #key = TId[0][0] + 1\n",
    "    #ins = [key, text]\n",
    "    cursor.executemany(\"\"\" insert into dbo.Text( Text) values ( ?);\"\"\", [text])\n",
    "    cursor.commit()\n",
    "    cursor.executemany(\"\"\" insert into dbo.Text( Phrase) values ( ?);\"\"\", [phrase[0][0]])\n",
    "    cursor.commit()"
   ]
  },
  {
   "cell_type": "code",
   "execution_count": 7,
   "id": "ea28d7ec",
   "metadata": {},
   "outputs": [],
   "source": [
    "#Execute SQL read DB\n",
    "def execute_read_query(connection, query):\n",
    "    #cursor = connection.cursor()\n",
    "    result = None\n",
    "    try:\n",
    "        cursor.execute(query)\n",
    "        result = cursor.fetchall()\n",
    "        return result\n",
    "    except Error as e:\n",
    "        print(f\"The error '{e}' occurred\")"
   ]
  },
  {
   "cell_type": "code",
   "execution_count": 8,
   "id": "4df74702",
   "metadata": {},
   "outputs": [
    {
     "data": {
      "text/plain": [
       "'Сегодня теплый день и солнце играет яркими красками на белоснежном снегу, покрывающим огромные крыши заброшенных домов.'"
      ]
     },
     "execution_count": 8,
     "metadata": {},
     "output_type": "execute_result"
    }
   ],
   "source": [
    "text"
   ]
  },
  {
   "cell_type": "code",
   "execution_count": 9,
   "id": "3a9d0904",
   "metadata": {},
   "outputs": [],
   "source": [
    "def extract():\n",
    "\t#txt0 = text\n",
    "\t##\n",
    "\t#run tomita for single file \n",
    "\t#with codecs.open('tomita app/test.txt', 'w', 'utf-8') as f:\n",
    "\t#\tf.write(str(txt0))\n",
    "\t\t\n",
    "\t#cmd = [\"./tomita app/tomitaparser.exe ./tomita app/config.proto\"]\n",
    "\tcommand = ['./tomitaparser.exe', './config.proto']\n",
    "\t# Run the command and capture the output\n",
    "\toutput = subprocess.check_output(command)\n",
    "\t##\n",
    "\t#return render_template('pretty.html')"
   ]
  },
  {
   "cell_type": "code",
   "execution_count": 10,
   "id": "7dcb513c",
   "metadata": {},
   "outputs": [],
   "source": [
    "with open('test.txt', 'w', encoding='utf-8') as f:\n",
    "    f.write(str(text))"
   ]
  },
  {
   "cell_type": "code",
   "execution_count": 11,
   "id": "a6b1d4b8",
   "metadata": {},
   "outputs": [],
   "source": [
    "extract()"
   ]
  },
  {
   "cell_type": "code",
   "execution_count": 12,
   "id": "478a3592",
   "metadata": {},
   "outputs": [],
   "source": [
    "def tomparce(x):\n",
    "    with open(x, encoding=\"utf-8\") as file:\n",
    "        soup = BeautifulSoup(file, 'html.parser')\n",
    "    tables = pd.read_html(str(soup))\n",
    "    return(tables)"
   ]
  },
  {
   "cell_type": "code",
   "execution_count": 13,
   "id": "722ddb16",
   "metadata": {},
   "outputs": [],
   "source": [
    "def tknz(wrd):\n",
    "    word_list = nltk.word_tokenize(wrd)\n",
    "    return(word_list)"
   ]
  },
  {
   "cell_type": "code",
   "execution_count": 14,
   "id": "7099d4ba",
   "metadata": {},
   "outputs": [],
   "source": [
    "rslt = tomparce('./templates/pretty.html')[0]"
   ]
  },
  {
   "cell_type": "code",
   "execution_count": 15,
   "id": "4ef2523a",
   "metadata": {},
   "outputs": [],
   "source": [
    "#Tokens\n",
    "rslt['toks'] = rslt.apply(lambda row: nltk.word_tokenize(row['Text']), axis=1)"
   ]
  },
  {
   "cell_type": "code",
   "execution_count": 16,
   "id": "84942e5a",
   "metadata": {},
   "outputs": [
    {
     "data": {
      "text/html": [
       "<div>\n",
       "<style scoped>\n",
       "    .dataframe tbody tr th:only-of-type {\n",
       "        vertical-align: middle;\n",
       "    }\n",
       "\n",
       "    .dataframe tbody tr th {\n",
       "        vertical-align: top;\n",
       "    }\n",
       "\n",
       "    .dataframe thead th {\n",
       "        text-align: right;\n",
       "    }\n",
       "</style>\n",
       "<table border=\"1\" class=\"dataframe\">\n",
       "  <thead>\n",
       "    <tr style=\"text-align: right;\">\n",
       "      <th></th>\n",
       "      <th>Text</th>\n",
       "      <th>Type</th>\n",
       "      <th>toks</th>\n",
       "      <th>txt</th>\n",
       "    </tr>\n",
       "  </thead>\n",
       "  <tbody>\n",
       "    <tr>\n",
       "      <th>0</th>\n",
       "      <td>теплый день</td>\n",
       "      <td>TAuxDicArticle [СущПрил]</td>\n",
       "      <td>[теплый, день]</td>\n",
       "      <td>Сегодня теплый день и солнце играет яркими кра...</td>\n",
       "    </tr>\n",
       "    <tr>\n",
       "      <th>1</th>\n",
       "      <td>яркий краска</td>\n",
       "      <td>TAuxDicArticle [СущПрил]</td>\n",
       "      <td>[яркий, краска]</td>\n",
       "      <td>Сегодня теплый день и солнце играет яркими кра...</td>\n",
       "    </tr>\n",
       "    <tr>\n",
       "      <th>2</th>\n",
       "      <td>белоснежный снег</td>\n",
       "      <td>TAuxDicArticle [СущПрил]</td>\n",
       "      <td>[белоснежный, снег]</td>\n",
       "      <td>Сегодня теплый день и солнце играет яркими кра...</td>\n",
       "    </tr>\n",
       "    <tr>\n",
       "      <th>3</th>\n",
       "      <td>огромный крыша</td>\n",
       "      <td>TAuxDicArticle [СущПрил]</td>\n",
       "      <td>[огромный, крыша]</td>\n",
       "      <td>Сегодня теплый день и солнце играет яркими кра...</td>\n",
       "    </tr>\n",
       "    <tr>\n",
       "      <th>4</th>\n",
       "      <td>заброшенный дом</td>\n",
       "      <td>TAuxDicArticle [СущПрил]</td>\n",
       "      <td>[заброшенный, дом]</td>\n",
       "      <td>Сегодня теплый день и солнце играет яркими кра...</td>\n",
       "    </tr>\n",
       "  </tbody>\n",
       "</table>\n",
       "</div>"
      ],
      "text/plain": [
       "               Text                      Type                 toks  \\\n",
       "0       теплый день  TAuxDicArticle [СущПрил]       [теплый, день]   \n",
       "1      яркий краска  TAuxDicArticle [СущПрил]      [яркий, краска]   \n",
       "2  белоснежный снег  TAuxDicArticle [СущПрил]  [белоснежный, снег]   \n",
       "3    огромный крыша  TAuxDicArticle [СущПрил]    [огромный, крыша]   \n",
       "4   заброшенный дом  TAuxDicArticle [СущПрил]   [заброшенный, дом]   \n",
       "\n",
       "                                                 txt  \n",
       "0  Сегодня теплый день и солнце играет яркими кра...  \n",
       "1  Сегодня теплый день и солнце играет яркими кра...  \n",
       "2  Сегодня теплый день и солнце играет яркими кра...  \n",
       "3  Сегодня теплый день и солнце играет яркими кра...  \n",
       "4  Сегодня теплый день и солнце играет яркими кра...  "
      ]
     },
     "execution_count": 16,
     "metadata": {},
     "output_type": "execute_result"
    }
   ],
   "source": [
    "rslt['txt']=text\n",
    "rslt"
   ]
  },
  {
   "cell_type": "code",
   "execution_count": 17,
   "id": "c2b1fcf4",
   "metadata": {},
   "outputs": [],
   "source": [
    "#Ecec to DB\n",
    "cnxn = pyodbc.connect('Driver={SQL Server};'\n",
    "                      'Server=WIN-01PF0KTEPI9;'\n",
    "                      'Database=ngram;'\n",
    "                      'Trusted_Connection=yes;')\n",
    "cursor = cnxn.cursor()\n",
    "\n",
    "# Insert Dataframe into SQL Server:\n",
    "for index, row in rslt.iterrows():\n",
    "     cursor.execute(\"insert into dbo.Text(dbo.Text, Phrase) values (?, ?)\", row.txt, row.Text)\n",
    "cnxn.commit()\n",
    "cursor.close()"
   ]
  },
  {
   "cell_type": "code",
   "execution_count": 24,
   "id": "75342c3e",
   "metadata": {},
   "outputs": [],
   "source": [
    "#def getTextID(x):\n",
    "def getIDText(ph):\n",
    "    phr = ph\n",
    "    with pyodbc.connect('Driver={SQL Server};'\n",
    "                      'Server=WIN-01PF0KTEPI9;'\n",
    "                      'Database=ngram;'\n",
    "                      'Trusted_Connection=yes;') as conn:\n",
    "        cursor = conn.cursor()\n",
    "        cursor.execute(\"\"\"SELECT IDText FROM dbo.Text where Phrase = ?;\"\"\", phr)   \n",
    "        #cursor.commit()\n",
    "        records = cursor.fetchall()\n",
    "        cursor.close\n",
    "    return(records[0][0])"
   ]
  },
  {
   "cell_type": "code",
   "execution_count": 25,
   "id": "686223b9",
   "metadata": {},
   "outputs": [
    {
     "name": "stdout",
     "output_type": "stream",
     "text": [
      "5\n"
     ]
    }
   ],
   "source": [
    "print(getIDText(\"теплый день\"))"
   ]
  },
  {
   "cell_type": "code",
   "execution_count": 26,
   "id": "787d3c43",
   "metadata": {},
   "outputs": [
    {
     "data": {
      "text/plain": [
       "'теплый день'"
      ]
     },
     "execution_count": 26,
     "metadata": {},
     "output_type": "execute_result"
    }
   ],
   "source": [
    "rslt['Text'][0]"
   ]
  },
  {
   "cell_type": "code",
   "execution_count": 27,
   "id": "195c03b1",
   "metadata": {},
   "outputs": [
    {
     "data": {
      "text/plain": [
       "'теплый'"
      ]
     },
     "execution_count": 27,
     "metadata": {},
     "output_type": "execute_result"
    }
   ],
   "source": [
    "rslt['toks'][0][0]"
   ]
  },
  {
   "cell_type": "code",
   "execution_count": 28,
   "id": "19a604e1",
   "metadata": {},
   "outputs": [
    {
     "name": "stdout",
     "output_type": "stream",
     "text": [
      "[('теплый', 5), ('день', 5), ('яркий', 7), ('краска', 7), ('белоснежный', 8), ('снег', 8), ('огромный', 9), ('крыша', 9), ('заброшенный', 10), ('дом', 10)]\n"
     ]
    }
   ],
   "source": [
    "tf = []\n",
    "\n",
    "\n",
    "for i in range(len(rslt['toks'])):\n",
    "    for j in range(len(rslt['toks'][i])):  \n",
    "        tf.append((rslt['toks'][i][j], getIDText(rslt['Text'][i])))\n",
    "\n",
    "print(tf)"
   ]
  },
  {
   "cell_type": "code",
   "execution_count": 29,
   "id": "248ebf16",
   "metadata": {},
   "outputs": [
    {
     "name": "stdout",
     "output_type": "stream",
     "text": [
      "[('теплый', 5)]\n",
      "[('теплый', 5), ('яркий', 7)]\n",
      "[('теплый', 5), ('яркий', 7), ('белоснежный', 8)]\n",
      "[('теплый', 5), ('яркий', 7), ('белоснежный', 8), ('огромный', 9)]\n",
      "[('теплый', 5), ('яркий', 7), ('белоснежный', 8), ('огромный', 9), ('заброшенный', 10)]\n"
     ]
    }
   ],
   "source": [
    "#Structure\n",
    "cort = ()\n",
    "wrd = []\n",
    "PhData= ()\n",
    "lst = []\n",
    "for i in range(len(rslt['toks'])):\n",
    "    #print(rslt['toks'][i][0])\n",
    "    wrd = rslt['toks'][i][0]\n",
    "    idT = getIDText(rslt['Text'][i])\n",
    "    PhData = wrd, idT\n",
    "    if len(PhData)==0:\n",
    "        lst.append(PhData)\n",
    "        wrd = ''\n",
    "        wrd = ''\n",
    "        wrd = rslt['toks'][i][1]\n",
    "    #PhData =  (PhData, (wrd, idT))\n",
    "        #PhData = PhData, (wrd,idT)\n",
    "        i=i+1\n",
    "    else:#print(PhData)\n",
    "        wrd = rslt['toks'][i][0]\n",
    "        idT = getIDText(rslt['Text'][i])\n",
    "        PhData = wrd, idT\n",
    "        lst.append(PhData)\n",
    "        wrd = ''\n",
    "        wrd = rslt['toks'][i][1]\n",
    "    #PhData =  (PhData, (wrd, idT))\n",
    "        #PhData = PhData, (wrd,idT)\n",
    "        print(lst)\n",
    "        PhData = ''\n",
    "        wrd = ''\n",
    "        idT = ''\n",
    "        i=i+1"
   ]
  },
  {
   "cell_type": "code",
   "execution_count": 35,
   "id": "9e5924f4",
   "metadata": {},
   "outputs": [],
   "source": [
    "def write_rightphrase(text):\n",
    "    print('filling database...1')\n",
    "    with pyodbc.connect('Driver={SQL Server};'\n",
    "                      'Server=WIN-01PF0KTEPI9;'\n",
    "                      'Database=ngram;'\n",
    "                      'Trusted_Connection=yes;') as conn:\n",
    "        print('filling database...2')\n",
    "        cursor = conn.cursor()\n",
    "        print('filling database...4')\n",
    "        cursor.executemany(\"\"\"insert into  dbo.Ngram(dbo.Word, IDText) values ( ?, ?)\"\"\", text)    \n",
    "        print('filling database...5')\n",
    "        cursor.commit()"
   ]
  },
  {
   "cell_type": "code",
   "execution_count": 36,
   "id": "24718f40",
   "metadata": {},
   "outputs": [
    {
     "name": "stdout",
     "output_type": "stream",
     "text": [
      "filling database...1\n",
      "filling database...2\n",
      "filling database...4\n",
      "filling database...5\n"
     ]
    }
   ],
   "source": [
    "write_rightphrase(lst)"
   ]
  },
  {
   "cell_type": "code",
   "execution_count": 21,
   "id": "55cfc364",
   "metadata": {},
   "outputs": [],
   "source": [
    "from natasha import (\n",
    "    Segmenter,\n",
    "    MorphVocab,\n",
    "    NewsEmbedding,\n",
    "    NewsMorphTagger,\n",
    "    NewsSyntaxParser,\n",
    "    Doc\n",
    ")"
   ]
  },
  {
   "cell_type": "code",
   "execution_count": 22,
   "id": "7ed2a08e",
   "metadata": {},
   "outputs": [],
   "source": [
    "def extrpos(sent):\n",
    "    morph_vocab = MorphVocab()\n",
    "    segmenter = Segmenter()\n",
    "    emb = NewsEmbedding()\n",
    "    morph_tagger = NewsMorphTagger(emb)\n",
    "    syntax_parser = NewsSyntaxParser(emb)\n",
    "    doc = Doc(sent)\n",
    "    doc.segment(segmenter)\n",
    "    doc.tag_morph(morph_tagger)\n",
    "    return(doc)"
   ]
  },
  {
   "cell_type": "code",
   "execution_count": null,
   "id": "fdda6094",
   "metadata": {},
   "outputs": [],
   "source": [
    "doc()"
   ]
  },
  {
   "cell_type": "code",
   "execution_count": 41,
   "id": "365ad515",
   "metadata": {},
   "outputs": [
    {
     "data": {
      "text/plain": [
       "'теплый день'"
      ]
     },
     "execution_count": 41,
     "metadata": {},
     "output_type": "execute_result"
    }
   ],
   "source": [
    "#checkpos = extrpos(rslt['Text'][1][0])\n",
    "rslt['Text'][0]"
   ]
  },
  {
   "cell_type": "code",
   "execution_count": 42,
   "id": "a6355522",
   "metadata": {},
   "outputs": [
    {
     "data": {
      "text/plain": [
       "'Сегодня теплый день и солнце играет яркими красками на белоснежном снегу, покрывающим огромные крыши заброшенных домов.'"
      ]
     },
     "execution_count": 42,
     "metadata": {},
     "output_type": "execute_result"
    }
   ],
   "source": [
    "rslt['txt'][0]"
   ]
  },
  {
   "cell_type": "code",
   "execution_count": 43,
   "id": "c35359cf",
   "metadata": {},
   "outputs": [
    {
     "name": "stdout",
     "output_type": "stream",
     "text": [
      "Подстрока найдена!\n",
      "Подстрока найдена!\n",
      "Подстрока найдена!\n",
      "Подстрока найдена!\n"
     ]
    }
   ],
   "source": [
    "fullstring = rslt['txt'][0]\n",
    "substring = rslt['Text'][0]\n",
    "if substring in fullstring:\n",
    "    print(\"Подстрока найдена!\")\n",
    "else:\n",
    "    print(\"Подстрока не найдена!\")\n",
    "    \n",
    "try:\n",
    "    fullstring.index(substring)\n",
    "except ValueError:\n",
    "    print(\"Подстрока не найдена!\")\n",
    "else:\n",
    "    print(\"Подстрока найдена!\")\n",
    "    \n",
    "if fullstring.find(substring) != -1:\n",
    "    print(\"Подстрока найдена!\")\n",
    "else:\n",
    "    print(\"Подстрока не найдена!\")\n",
    "\n",
    "from re import search\n",
    "if search(substring, fullstring):\n",
    "    print(\"Подстрока найдена!\")\n",
    "else:\n",
    "    print(\"Подстрока не найдена!\")"
   ]
  },
  {
   "cell_type": "code",
   "execution_count": 44,
   "id": "01d2d9c4",
   "metadata": {},
   "outputs": [],
   "source": [
    "checkpos = extrpos(rslt['Text'][1])"
   ]
  },
  {
   "cell_type": "code",
   "execution_count": 45,
   "id": "1c9cb361",
   "metadata": {},
   "outputs": [
    {
     "name": "stdout",
     "output_type": "stream",
     "text": [
      "ADJ яркий\n",
      "NOUN краска\n"
     ]
    }
   ],
   "source": [
    "for token in checkpos.tokens:\n",
    "    print(token.pos, token.text)"
   ]
  },
  {
   "cell_type": "code",
   "execution_count": 46,
   "id": "79d81c41",
   "metadata": {},
   "outputs": [],
   "source": [
    "def getIDWord(ph):\n",
    "    phr = ph\n",
    "    with pyodbc.connect('Driver={SQL Server};'\n",
    "                      'Server=WIN-01PF0KTEPI9;'\n",
    "                      'Database=ngram;'\n",
    "                      'Trusted_Connection=yes;') as conn:\n",
    "        cursor = conn.cursor()\n",
    "        cursor.execute(\"\"\"SELECT IDWord FROM dbo.Ngram where Word = ?;\"\"\", phr)   \n",
    "        #cursor.commit()\n",
    "        records = cursor.fetchall()\n",
    "        cursor.close\n",
    "    return(records[0][0])"
   ]
  },
  {
   "cell_type": "code",
   "execution_count": 53,
   "id": "0566d46e",
   "metadata": {},
   "outputs": [
    {
     "data": {
      "text/plain": [
       "2"
      ]
     },
     "execution_count": 53,
     "metadata": {},
     "output_type": "execute_result"
    }
   ],
   "source": [
    "getIDWord('яркий')"
   ]
  },
  {
   "cell_type": "code",
   "execution_count": 52,
   "id": "2c831367",
   "metadata": {},
   "outputs": [
    {
     "ename": "NameError",
     "evalue": "name 'doc' is not defined",
     "output_type": "error",
     "traceback": [
      "\u001b[1;31m---------------------------------------------------------------------------\u001b[0m",
      "\u001b[1;31mNameError\u001b[0m                                 Traceback (most recent call last)",
      "Cell \u001b[1;32mIn[52], line 2\u001b[0m\n\u001b[0;32m      1\u001b[0m getIDWord(rslt[\u001b[38;5;124m'\u001b[39m\u001b[38;5;124mtoks\u001b[39m\u001b[38;5;124m'\u001b[39m][\u001b[38;5;241m0\u001b[39m][\u001b[38;5;241m0\u001b[39m])\n\u001b[1;32m----> 2\u001b[0m \u001b[38;5;28;01mfor\u001b[39;00m token \u001b[38;5;129;01min\u001b[39;00m doc\u001b[38;5;241m.\u001b[39mtokens:\n\u001b[0;32m      3\u001b[0m     \u001b[38;5;28mprint\u001b[39m(token\u001b[38;5;241m.\u001b[39mpos, token\u001b[38;5;241m.\u001b[39mtext)\n",
      "\u001b[1;31mNameError\u001b[0m: name 'doc' is not defined"
     ]
    }
   ],
   "source": [
    "getIDWord(rslt['toks'][0][0])\n",
    "for token in doc.tokens:\n",
    "    print(token.pos, token.text)"
   ]
  },
  {
   "cell_type": "code",
   "execution_count": 16,
   "id": "77eb39c5",
   "metadata": {},
   "outputs": [
    {
     "name": "stdout",
     "output_type": "stream",
     "text": [
      "Requirement already satisfied: pymystem3 in d:\\python\\lib\\site-packages (0.2.0)\n",
      "Requirement already satisfied: requests in d:\\python\\lib\\site-packages (from pymystem3) (2.31.0)\n",
      "Requirement already satisfied: charset-normalizer<4,>=2 in d:\\python\\lib\\site-packages (from requests->pymystem3) (2.0.4)\n",
      "Requirement already satisfied: idna<4,>=2.5 in d:\\python\\lib\\site-packages (from requests->pymystem3) (3.4)\n",
      "Requirement already satisfied: urllib3<3,>=1.21.1 in d:\\python\\lib\\site-packages (from requests->pymystem3) (1.26.16)\n",
      "Requirement already satisfied: certifi>=2017.4.17 in d:\\python\\lib\\site-packages (from requests->pymystem3) (2023.7.22)\n",
      "Note: you may need to restart the kernel to use updated packages.\n"
     ]
    }
   ],
   "source": [
    "pip install pymystem3"
   ]
  },
  {
   "cell_type": "code",
   "execution_count": 17,
   "id": "7929d161",
   "metadata": {},
   "outputs": [],
   "source": [
    "from pymystem3 import Mystem\n",
    "m = Mystem()\n",
    "def lemmatize_sentence(text):    \n",
    "    lemmas = m.lemmatize(text)\n",
    "    return \"\".join(lemmas).strip()"
   ]
  },
  {
   "cell_type": "code",
   "execution_count": 18,
   "id": "25b9a80b",
   "metadata": {},
   "outputs": [],
   "source": [
    "def extrpos(sent):    \n",
    "    morph_vocab = MorphVocab()\n",
    "    segmenter = Segmenter()    \n",
    "    emb = NewsEmbedding()\n",
    "    morph_tagger = NewsMorphTagger(emb)    \n",
    "    syntax_parser = NewsSyntaxParser(emb)\n",
    "    doc = Doc(sent)    \n",
    "    doc.segment(segmenter)\n",
    "    doc.tag_morph(morph_tagger)    \n",
    "    return(doc)"
   ]
  },
  {
   "cell_type": "code",
   "execution_count": 38,
   "id": "dfd0fc4c",
   "metadata": {},
   "outputs": [],
   "source": [
    "def getIDWord(ph):\n",
    "    phr = ph\n",
    "    with pyodbc.connect('Driver={SQL Server};'\n",
    "                      'Server=WIN-01PF0KTEPI9;'\n",
    "                      'Database=ngram;'\n",
    "                      'Trusted_Connection=yes;') as conn:\n",
    "        cursor = conn.cursor()\n",
    "        cursor.execute(\"\"\"SELECT IDWord FROM dbo.Ngram where Word = ?;\"\"\", phr)   \n",
    "        #cursor.commit()\n",
    "        records = cursor.fetchall()\n",
    "        cursor.close\n",
    "    return(records[0][0])"
   ]
  },
  {
   "cell_type": "code",
   "execution_count": 30,
   "id": "6a5afbd1",
   "metadata": {},
   "outputs": [
    {
     "name": "stdout",
     "output_type": "stream",
     "text": [
      "[('теплый', 'ADJ', '1', '5'), ('день', 'NOUN', '1', '5'), ('яркий', 'ADJ', '2', '7'), ('краска', 'NOUN', '2', '7'), ('белоснежный', 'ADJ', '3', '8'), ('снег', 'NOUN', '3', '8'), ('огромный', 'ADJ', '4', '9'), ('крыша', 'NOUN', '4', '9'), ('забросить', 'VERB', '5', '10'), ('дом', 'NOUN', '5', '10')]\n"
     ]
    }
   ],
   "source": [
    "lst = []\n",
    "tmp = ()\n",
    "posW = ()\n",
    "nm=()\n",
    "nmW=()\n",
    "doc=\"\"\n",
    "#lemmatize_sentence\n",
    "\n",
    "for i in range(len(rslt['toks'])):    \n",
    "    #tmp = tmp + (lemmatize_sentence(rslt['toks'][i][0]),) \n",
    "    tmp = tmp + (lemmatize_sentence(rslt['toks'][i][0]),)    \n",
    "    doc = extrpos(rslt['toks'][i][0])\n",
    "    tmp = tmp + (doc.tokens[0].pos,)    \n",
    "    nm =  str(getIDText(rslt['Text'][i]))\n",
    "    nmW = str(getIDWord(rslt['toks'][i][0]))    \n",
    "    tmp = tmp + (nmW,)\n",
    "    tmp = tmp + (nm,)    \n",
    "    lst.append(tmp)\n",
    "    tmp = ()    \n",
    "    #print(tmp)\n",
    "    #tmp =  tmp + (lemmatize_sentence(rslt['toks'][i][1]),)    \n",
    "    tmp = tmp + (lemmatize_sentence(rslt['toks'][i][1]),)\n",
    "    doc = extrpos(rslt['toks'][i][1])    \n",
    "    tmp = tmp + (doc.tokens[0].pos,)\n",
    "    nm =  str(getIDText(rslt['Text'][i]))    \n",
    "    nmW =  str(getIDWord(rslt['toks'][i][0]))\n",
    "    tmp =  tmp + (nmW,)    \n",
    "    tmp =  tmp + (nm,)\n",
    "    lst.append(tmp)    \n",
    "    tmp = ()\n",
    "print(lst)"
   ]
  },
  {
   "cell_type": "code",
   "execution_count": 58,
   "id": "c1830758",
   "metadata": {},
   "outputs": [],
   "source": [
    "def execute_pos_toks(connection,tt):  \n",
    "    with pyodbc.connect('Driver={SQL Server};'\n",
    "                      'Server=WIN-01PF0KTEPI9;'\n",
    "                      'Database=ngram;'\n",
    "                      'Trusted_Connection=yes;') as conn:\n",
    "        for d in tt:\n",
    "            print(d)\n",
    "    cursor = conn.cursor()\n",
    "    cursor.executemany(\" insert into dbo.Lem(Lem, PoS, IDWord, IDText) values (?, ?, ?, ?) \", d)   \n",
    "    #cursor.commit()\n",
    "    cursor.close\n",
    "    "
   ]
  },
  {
   "cell_type": "code",
   "execution_count": 59,
   "id": "86e9c6fa",
   "metadata": {},
   "outputs": [
    {
     "name": "stdout",
     "output_type": "stream",
     "text": [
      "[('теплый', 'ADJ', '1', '5'), ('день', 'NOUN', '1', '5'), ('яркий', 'ADJ', '2', '7'), ('краска', 'NOUN', '2', '7'), ('белоснежный', 'ADJ', '3', '8'), ('снег', 'NOUN', '3', '8'), ('огромный', 'ADJ', '4', '9'), ('крыша', 'NOUN', '4', '9'), ('забросить', 'VERB', '5', '10'), ('дом', 'NOUN', '5', '10')]\n"
     ]
    }
   ],
   "source": [
    "execute_pos_toks(connection, [lst])"
   ]
  },
  {
   "cell_type": "code",
   "execution_count": null,
   "id": "7a5d2528",
   "metadata": {},
   "outputs": [],
   "source": [
    "#"
   ]
  }
 ],
 "metadata": {
  "kernelspec": {
   "display_name": "Python 3 (ipykernel)",
   "language": "python",
   "name": "python3"
  },
  "language_info": {
   "codemirror_mode": {
    "name": "ipython",
    "version": 3
   },
   "file_extension": ".py",
   "mimetype": "text/x-python",
   "name": "python",
   "nbconvert_exporter": "python",
   "pygments_lexer": "ipython3",
   "version": "3.11.4"
  }
 },
 "nbformat": 4,
 "nbformat_minor": 5
}
