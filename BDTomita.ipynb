{
 "cells": [
  {
   "cell_type": "code",
   "execution_count": 6,
   "id": "78c3d5eb",
   "metadata": {},
   "outputs": [],
   "source": [
    "import os\n",
    "from flask import Flask, render_template, request, flash, redirect\n",
    "import pyodbc\n",
    "import codecs\n",
    "import subprocess"
   ]
  },
  {
   "cell_type": "code",
   "execution_count": 1,
   "id": "e61f8d38",
   "metadata": {},
   "outputs": [],
   "source": [
    "lemma = \"роща\""
   ]
  },
  {
   "cell_type": "code",
   "execution_count": 3,
   "id": "416865b2",
   "metadata": {},
   "outputs": [
    {
     "name": "stdout",
     "output_type": "stream",
     "text": [
      "filling database...2\n",
      "filling database...4\n",
      "filling database...5\n"
     ]
    }
   ],
   "source": [
    "with pyodbc.connect('Driver={SQL Server};'\n",
    "                      'Server=DESKTOP-D39A2O2\\SQLEXPRESS;'\n",
    "                      'Database=ngram;'\n",
    "                      'Trusted_Connection=yes;') as conn:\n",
    "        print('filling database...2')\n",
    "        cursor = conn.cursor()\n",
    "        print('filling database...4')\n",
    "        cursor.execute(\"\"\"insert into  dbo.Ngram(IDFrase, Frase, Word1, Word2, IDLem, IDText) values (1, 'белый дом', 'белый', 'дом', 1, 1)\"\"\")    \n",
    "        print('filling database...5')\n",
    "        cursor.commit()"
   ]
  },
  {
   "cell_type": "code",
   "execution_count": 1,
   "id": "939bd460",
   "metadata": {},
   "outputs": [],
   "source": [
    "#IDFrase Frase Word1 Word2 IDLem IDText\n",
    "def fill_db(phrase):\n",
    "    print('filling database...1')\n",
    "    with pyodbc.connect('Driver={SQL Server};'\n",
    "                      'Server=DESKTOP-D39A2O2\\SQLEXPRESS;'\n",
    "                      'Database=ngram;'\n",
    "                      'Trusted_Connection=yes;') as conn:\n",
    "        print('filling database...2')\n",
    "        cursor = conn.cursor()\n",
    "        print('filling database...4')\n",
    "        cursor.executemany(\"\"\"insert into  dbo.Text(Text, Phrase) values ( ?, ?)\"\"\", phrase)    \n",
    "        print('filling database...5')\n",
    "        cursor.commit()"
   ]
  },
  {
   "cell_type": "code",
   "execution_count": 3,
   "id": "434123ae",
   "metadata": {},
   "outputs": [
    {
     "name": "stdout",
     "output_type": "stream",
     "text": [
      "filling database...1\n",
      "filling database...2\n",
      "filling database...4\n",
      "filling database...5\n"
     ]
    }
   ],
   "source": [
    "tt = ('Я ем вкусную шоколадку', 'вкусную шоколадку')\n",
    "fill_db([tt])"
   ]
  },
  {
   "cell_type": "code",
   "execution_count": 4,
   "id": "833cd9b2",
   "metadata": {},
   "outputs": [
    {
     "name": "stdout",
     "output_type": "stream",
     "text": [
      "('Я ем вкусную шоколадку', 'вкусную шоколадку')\n"
     ]
    }
   ],
   "source": [
    "print(tt)"
   ]
  },
  {
   "cell_type": "code",
   "execution_count": 7,
   "id": "f93a182b",
   "metadata": {},
   "outputs": [
    {
     "name": "stdout",
     "output_type": "stream",
     "text": [
      "[(20005, 'Я ем вкусную шоколадку', 'вкусную шоколадку                                                                                                                                                                                                                                             ')]\n"
     ]
    }
   ],
   "source": [
    "\n",
    "with pyodbc.connect('Driver={SQL Server};'\n",
    "                      'Server=DESKTOP-D39A2O2\\SQLEXPRESS;'\n",
    "                      'Database=ngram;'\n",
    "                      'Trusted_Connection=yes;') as conn:\n",
    "        cursor = conn.cursor()\n",
    "        cursor.execute(\"\"\"SELECT * FROM dbo.Text where Phrase = 'вкусную шоколадку'\"\"\")   \n",
    "        #cursor.commit()\n",
    "        records = cursor.fetchall()\n",
    "\n",
    "print(records)"
   ]
  },
  {
   "cell_type": "code",
   "execution_count": 6,
   "id": "9327e3f0",
   "metadata": {},
   "outputs": [],
   "source": [
    "from bs4 import BeautifulSoup\n",
    "import requests"
   ]
  },
  {
   "cell_type": "code",
   "execution_count": 7,
   "id": "98d6217d",
   "metadata": {},
   "outputs": [
    {
     "name": "stderr",
     "output_type": "stream",
     "text": [
      "C:\\Users\\ILLA_0\\AppData\\Local\\Temp\\ipykernel_34156\\3350592731.py:7: FutureWarning: Passing literal html to 'read_html' is deprecated and will be removed in a future version. To read from a literal string, wrap it in a 'StringIO' object.\n",
      "  tables = pd.read_html(str(soup))\n"
     ]
    }
   ],
   "source": [
    "import pandas as pd\n",
    "from bs4 import BeautifulSoup\n",
    "\n",
    "# Read the HTML file into a Pandas dataframe\n",
    "with open('results.html', encoding=\"utf-8\") as file:\n",
    "    soup = BeautifulSoup(file, 'html.parser')\n",
    "tables = pd.read_html(str(soup))"
   ]
  },
  {
   "cell_type": "code",
   "execution_count": 8,
   "id": "bf4002fa",
   "metadata": {},
   "outputs": [
    {
     "name": "stdout",
     "output_type": "stream",
     "text": [
      "         Text                      Type\n",
      "0   белый дом  TAuxDicArticle [СущПрил]\n",
      "1  синий утес  TAuxDicArticle [СущПрил]\n"
     ]
    }
   ],
   "source": [
    "table = tables[0]\n",
    "print(table)"
   ]
  },
  {
   "cell_type": "code",
   "execution_count": 9,
   "id": "be2ab2e8",
   "metadata": {},
   "outputs": [
    {
     "data": {
      "text/plain": [
       "list"
      ]
     },
     "execution_count": 9,
     "metadata": {},
     "output_type": "execute_result"
    }
   ],
   "source": [
    "type(tables)"
   ]
  },
  {
   "cell_type": "code",
   "execution_count": 10,
   "id": "c59bcdc3",
   "metadata": {},
   "outputs": [
    {
     "data": {
      "text/plain": [
       "'белый дом'"
      ]
     },
     "execution_count": 10,
     "metadata": {},
     "output_type": "execute_result"
    }
   ],
   "source": [
    "table.Text[0]"
   ]
  },
  {
   "cell_type": "code",
   "execution_count": 11,
   "id": "4d1dd875",
   "metadata": {},
   "outputs": [],
   "source": [
    "tmp = table.Text[0]"
   ]
  },
  {
   "cell_type": "code",
   "execution_count": 13,
   "id": "41a8e65d",
   "metadata": {},
   "outputs": [
    {
     "name": "stderr",
     "output_type": "stream",
     "text": [
      "[nltk_data] Downloading package wordnet to\n",
      "[nltk_data]     C:\\Users\\ILLA_0\\AppData\\Roaming\\nltk_data...\n",
      "[nltk_data]   Package wordnet is already up-to-date!\n"
     ]
    },
    {
     "data": {
      "text/plain": [
       "True"
      ]
     },
     "execution_count": 13,
     "metadata": {},
     "output_type": "execute_result"
    }
   ],
   "source": [
    "import nltk\n",
    "nltk.download('wordnet')"
   ]
  },
  {
   "cell_type": "code",
   "execution_count": 14,
   "id": "32e0865e",
   "metadata": {},
   "outputs": [
    {
     "name": "stdout",
     "output_type": "stream",
     "text": [
      "['белый', 'дом']\n"
     ]
    }
   ],
   "source": [
    "word_list = nltk.word_tokenize(table.Text[0])\n",
    "print(word_list)"
   ]
  },
  {
   "cell_type": "code",
   "execution_count": 15,
   "id": "5626e678",
   "metadata": {},
   "outputs": [],
   "source": [
    "def tknz(wrd):\n",
    "    word_list = nltk.word_tokenize(wrd)\n",
    "    return(word_list)"
   ]
  },
  {
   "cell_type": "code",
   "execution_count": 16,
   "id": "b0ca7cc6",
   "metadata": {},
   "outputs": [
    {
     "ename": "NameError",
     "evalue": "name 'fill_db' is not defined",
     "output_type": "error",
     "traceback": [
      "\u001b[1;31m---------------------------------------------------------------------------\u001b[0m",
      "\u001b[1;31mNameError\u001b[0m                                 Traceback (most recent call last)",
      "Cell \u001b[1;32mIn[16], line 2\u001b[0m\n\u001b[0;32m      1\u001b[0m phrase \u001b[38;5;241m=\u001b[39m (\u001b[38;5;241m2\u001b[39m, tmp, word_list[\u001b[38;5;241m0\u001b[39m], word_list[\u001b[38;5;241m1\u001b[39m], \u001b[38;5;241m1\u001b[39m, \u001b[38;5;241m1\u001b[39m)\n\u001b[1;32m----> 2\u001b[0m \u001b[43mfill_db\u001b[49m([phrase])\n",
      "\u001b[1;31mNameError\u001b[0m: name 'fill_db' is not defined"
     ]
    }
   ],
   "source": [
    "phrase = (2, tmp, word_list[0], word_list[1], 1, 1)\n",
    "fill_db([phrase])"
   ]
  },
  {
   "cell_type": "code",
   "execution_count": 17,
   "id": "5af8862e",
   "metadata": {},
   "outputs": [],
   "source": [
    "def tomparce(x):\n",
    "    with open(x, encoding=\"utf-8\") as file:\n",
    "        soup = BeautifulSoup(file, 'html.parser')\n",
    "    tables = pd.read_html(str(soup))\n",
    "    return(tables)"
   ]
  },
  {
   "cell_type": "code",
   "execution_count": 18,
   "id": "5640a9f1",
   "metadata": {
    "scrolled": true
   },
   "outputs": [
    {
     "name": "stderr",
     "output_type": "stream",
     "text": [
      "C:\\Users\\ILLA_0\\AppData\\Local\\Temp\\ipykernel_34156\\200335538.py:4: FutureWarning: Passing literal html to 'read_html' is deprecated and will be removed in a future version. To read from a literal string, wrap it in a 'StringIO' object.\n",
      "  tables = pd.read_html(str(soup))\n"
     ]
    }
   ],
   "source": [
    "rslt = tomparce('results.html')[0]"
   ]
  },
  {
   "cell_type": "code",
   "execution_count": 19,
   "id": "edb63973",
   "metadata": {},
   "outputs": [
    {
     "data": {
      "text/html": [
       "<div>\n",
       "<style scoped>\n",
       "    .dataframe tbody tr th:only-of-type {\n",
       "        vertical-align: middle;\n",
       "    }\n",
       "\n",
       "    .dataframe tbody tr th {\n",
       "        vertical-align: top;\n",
       "    }\n",
       "\n",
       "    .dataframe thead th {\n",
       "        text-align: right;\n",
       "    }\n",
       "</style>\n",
       "<table border=\"1\" class=\"dataframe\">\n",
       "  <thead>\n",
       "    <tr style=\"text-align: right;\">\n",
       "      <th></th>\n",
       "      <th>Text</th>\n",
       "      <th>Type</th>\n",
       "    </tr>\n",
       "  </thead>\n",
       "  <tbody>\n",
       "    <tr>\n",
       "      <th>0</th>\n",
       "      <td>белый дом</td>\n",
       "      <td>TAuxDicArticle [СущПрил]</td>\n",
       "    </tr>\n",
       "    <tr>\n",
       "      <th>1</th>\n",
       "      <td>синий утес</td>\n",
       "      <td>TAuxDicArticle [СущПрил]</td>\n",
       "    </tr>\n",
       "  </tbody>\n",
       "</table>\n",
       "</div>"
      ],
      "text/plain": [
       "         Text                      Type\n",
       "0   белый дом  TAuxDicArticle [СущПрил]\n",
       "1  синий утес  TAuxDicArticle [СущПрил]"
      ]
     },
     "execution_count": 19,
     "metadata": {},
     "output_type": "execute_result"
    }
   ],
   "source": [
    "rslt"
   ]
  },
  {
   "cell_type": "code",
   "execution_count": 20,
   "id": "71ba7b52",
   "metadata": {},
   "outputs": [
    {
     "data": {
      "text/plain": [
       "range(0, 2)"
      ]
     },
     "execution_count": 20,
     "metadata": {},
     "output_type": "execute_result"
    }
   ],
   "source": [
    "range(len(rslt.Text))"
   ]
  },
  {
   "cell_type": "code",
   "execution_count": 21,
   "id": "0e346471",
   "metadata": {},
   "outputs": [
    {
     "data": {
      "text/plain": [
       "'белый дом'"
      ]
     },
     "execution_count": 21,
     "metadata": {},
     "output_type": "execute_result"
    }
   ],
   "source": [
    "rslt.Text[0]"
   ]
  },
  {
   "cell_type": "code",
   "execution_count": 22,
   "id": "b9af9ebc",
   "metadata": {},
   "outputs": [
    {
     "name": "stdout",
     "output_type": "stream",
     "text": [
      "белый дом\n",
      "синий утес\n"
     ]
    }
   ],
   "source": [
    "for row in rslt.itertuples():\n",
    "    print(row.Text)"
   ]
  },
  {
   "cell_type": "code",
   "execution_count": 24,
   "id": "c13ca26a",
   "metadata": {},
   "outputs": [],
   "source": [
    "tmp=[]\n",
    "i = 0"
   ]
  },
  {
   "cell_type": "code",
   "execution_count": 25,
   "id": "d834bcbc",
   "metadata": {},
   "outputs": [],
   "source": [
    "for row in rslt.itertuples():\n",
    "    tmp.append((row.Text))"
   ]
  },
  {
   "cell_type": "code",
   "execution_count": 26,
   "id": "eb82f7e3",
   "metadata": {},
   "outputs": [
    {
     "data": {
      "text/plain": [
       "['белый дом', 'синий утес']"
      ]
     },
     "execution_count": 26,
     "metadata": {},
     "output_type": "execute_result"
    }
   ],
   "source": [
    "tmp"
   ]
  },
  {
   "cell_type": "code",
   "execution_count": 27,
   "id": "a04b5115",
   "metadata": {},
   "outputs": [
    {
     "name": "stdout",
     "output_type": "stream",
     "text": [
      "['белый', 'дом']\n",
      "['синий', 'утес']\n"
     ]
    }
   ],
   "source": [
    "phrase = []\n",
    "toks = []\n",
    "i=0\n",
    "j = 3\n",
    "for i in range(len(rslt.Text)):\n",
    "    toks=tknz(rslt.Text[i])\n",
    "    print(toks)\n",
    "    phrase.append((j, rslt.Text[i], toks[0], toks[1], 1,1))\n",
    "    i=i+1\n",
    "    j=j+1\n",
    "    "
   ]
  },
  {
   "cell_type": "code",
   "execution_count": 29,
   "id": "f0331b14",
   "metadata": {},
   "outputs": [
    {
     "data": {
      "text/plain": [
       "'синий утес'"
      ]
     },
     "execution_count": 29,
     "metadata": {},
     "output_type": "execute_result"
    }
   ],
   "source": [
    "rslt.Text[1]"
   ]
  },
  {
   "cell_type": "code",
   "execution_count": 30,
   "id": "771593f4",
   "metadata": {},
   "outputs": [
    {
     "data": {
      "text/plain": [
       "list"
      ]
     },
     "execution_count": 30,
     "metadata": {},
     "output_type": "execute_result"
    }
   ],
   "source": [
    "type(phrase)"
   ]
  },
  {
   "cell_type": "code",
   "execution_count": 31,
   "id": "6dfed68e",
   "metadata": {},
   "outputs": [
    {
     "data": {
      "text/plain": [
       "'белый дом'"
      ]
     },
     "execution_count": 31,
     "metadata": {},
     "output_type": "execute_result"
    }
   ],
   "source": [
    "phrase[0][1]"
   ]
  },
  {
   "cell_type": "code",
   "execution_count": 34,
   "id": "4119908e",
   "metadata": {},
   "outputs": [
    {
     "name": "stdout",
     "output_type": "stream",
     "text": [
      "[(19007, \"['В Томске можно найти большой университет, белый дом, университетскую рощу']\", 'большой университет                                                                                                                                                                                                                                           ')]\n"
     ]
    }
   ],
   "source": [
    "phr = 19007\n",
    "with pyodbc.connect('Driver={SQL Server};'\n",
    "                      'Server=DESKTOP-D39A2O2\\SQLEXPRESS;'\n",
    "                      'Database=ngram;'\n",
    "                      'Trusted_Connection=yes;') as conn:\n",
    "        cursor = conn.cursor()\n",
    "        cursor.execute(\"\"\"SELECT * FROM dbo.Text where IDText = ?;\"\"\", phr)   \n",
    "        #cursor.commit()\n",
    "        records = cursor.fetchall()\n",
    "\n",
    "print(records)"
   ]
  },
  {
   "cell_type": "code",
   "execution_count": 35,
   "id": "f1b7285b",
   "metadata": {},
   "outputs": [
    {
     "data": {
      "text/plain": [
       "1"
      ]
     },
     "execution_count": 35,
     "metadata": {},
     "output_type": "execute_result"
    }
   ],
   "source": [
    "len(records)"
   ]
  },
  {
   "cell_type": "code",
   "execution_count": 36,
   "id": "4063bfe6",
   "metadata": {},
   "outputs": [
    {
     "ename": "NameError",
     "evalue": "name 'dbconn' is not defined",
     "output_type": "error",
     "traceback": [
      "\u001b[1;31m---------------------------------------------------------------------------\u001b[0m",
      "\u001b[1;31mNameError\u001b[0m                                 Traceback (most recent call last)",
      "Cell \u001b[1;32mIn[36], line 1\u001b[0m\n\u001b[1;32m----> 1\u001b[0m \u001b[43mdbconn\u001b[49m(cursor\u001b[38;5;241m.\u001b[39mexecute(\u001b[38;5;124m\"\u001b[39m\u001b[38;5;124mSELECT Frase FROM dbo.Ngram where Frase = ?;\u001b[39m\u001b[38;5;124m\"\u001b[39m, phrase[\u001b[38;5;241m0\u001b[39m][\u001b[38;5;241m1\u001b[39m]))\n\u001b[0;32m      2\u001b[0m ph\u001b[38;5;241m=\u001b[39mcursor\u001b[38;5;241m.\u001b[39mcommit()\n",
      "\u001b[1;31mNameError\u001b[0m: name 'dbconn' is not defined"
     ]
    }
   ],
   "source": [
    "#dbconn(cursor.execute(\"SELECT Frase FROM dbo.Ngram where Frase = ?;\", phrase[0][1]))\n",
    "#ph=cursor.commit()"
   ]
  },
  {
   "cell_type": "code",
   "execution_count": 37,
   "id": "a74f2b4f",
   "metadata": {},
   "outputs": [
    {
     "data": {
      "text/plain": [
       "(3, 'белый дом', 'белый', 'дом', 1, 1)"
      ]
     },
     "execution_count": 37,
     "metadata": {},
     "output_type": "execute_result"
    }
   ],
   "source": [
    "phrase[0]\n"
   ]
  },
  {
   "cell_type": "code",
   "execution_count": 46,
   "id": "7206f4d6",
   "metadata": {},
   "outputs": [
    {
     "ename": "ProgrammingError",
     "evalue": "('42S22', '[42S22] [Microsoft][ODBC SQL Server Driver][SQL Server]Недопустимое имя столбца \"Phrase\". (207) (SQLExecDirectW); [42S22] [Microsoft][ODBC SQL Server Driver][SQL Server]Недопустимое имя столбца \"Phrase\". (207); [42S22] [Microsoft][ODBC SQL Server Driver][SQL Server]Не удалось выполнить подготовку инструкций. (8180)')",
     "output_type": "error",
     "traceback": [
      "\u001b[1;31m---------------------------------------------------------------------------\u001b[0m",
      "\u001b[1;31mProgrammingError\u001b[0m                          Traceback (most recent call last)",
      "Cell \u001b[1;32mIn[46], line 3\u001b[0m\n\u001b[0;32m      1\u001b[0m i\u001b[38;5;241m=\u001b[39m\u001b[38;5;241m0\u001b[39m\n\u001b[0;32m      2\u001b[0m \u001b[38;5;28;01mwhile\u001b[39;00m i \u001b[38;5;241m<\u001b[39m \u001b[38;5;28mlen\u001b[39m(phrase):\n\u001b[1;32m----> 3\u001b[0m     dbconn(\u001b[43mcursor\u001b[49m\u001b[38;5;241;43m.\u001b[39;49m\u001b[43mexecute\u001b[49m\u001b[43m(\u001b[49m\u001b[38;5;124;43m\"\u001b[39;49m\u001b[38;5;124;43mSELECT Phrase FROM dbo.Ngram where Phrase = ?;\u001b[39;49m\u001b[38;5;124;43m\"\u001b[39;49m\u001b[43m,\u001b[49m\u001b[43m \u001b[49m\u001b[43mphrase\u001b[49m\u001b[43m[\u001b[49m\u001b[43mi\u001b[49m\u001b[43m]\u001b[49m\u001b[43m[\u001b[49m\u001b[38;5;241;43m1\u001b[39;49m\u001b[43m]\u001b[49m\u001b[43m)\u001b[49m)\n\u001b[0;32m      4\u001b[0m     ph \u001b[38;5;241m=\u001b[39m cursor\u001b[38;5;241m.\u001b[39mfetchall()\n\u001b[0;32m      5\u001b[0m     \u001b[38;5;28;01mif\u001b[39;00m \u001b[38;5;28mlen\u001b[39m(ph) \u001b[38;5;241m==\u001b[39m \u001b[38;5;241m0\u001b[39m:\n",
      "\u001b[1;31mProgrammingError\u001b[0m: ('42S22', '[42S22] [Microsoft][ODBC SQL Server Driver][SQL Server]Недопустимое имя столбца \"Phrase\". (207) (SQLExecDirectW); [42S22] [Microsoft][ODBC SQL Server Driver][SQL Server]Недопустимое имя столбца \"Phrase\". (207); [42S22] [Microsoft][ODBC SQL Server Driver][SQL Server]Не удалось выполнить подготовку инструкций. (8180)')"
     ]
    }
   ],
   "source": [
    "i=0\n",
    "while i < len(phrase):\n",
    "    dbconn(cursor.execute(\"SELECT Phrase FROM dbo.Ngram where Phrase = ?;\", phrase[i][1]))\n",
    "    ph = cursor.fetchall()\n",
    "    if len(ph) == 0:\n",
    "        inp = (1, phrase[i][1], phrase[i][2], phrase[i][3], 1, 1)\n",
    "        fill_db([inp])\n",
    "        i=i+1\n",
    "    else:\n",
    "        print('Словосочетание уже есть в Базе')\n",
    "        i=i+1"
   ]
  },
  {
   "cell_type": "code",
   "execution_count": 39,
   "id": "5e8bd0c0",
   "metadata": {},
   "outputs": [
    {
     "ename": "NameError",
     "evalue": "name 'fill_db' is not defined",
     "output_type": "error",
     "traceback": [
      "\u001b[1;31m---------------------------------------------------------------------------\u001b[0m",
      "\u001b[1;31mNameError\u001b[0m                                 Traceback (most recent call last)",
      "Cell \u001b[1;32mIn[39], line 3\u001b[0m\n\u001b[0;32m      1\u001b[0m i\u001b[38;5;241m=\u001b[39m\u001b[38;5;241m0\u001b[39m\n\u001b[0;32m      2\u001b[0m \u001b[38;5;28;01mfor\u001b[39;00m i \u001b[38;5;129;01min\u001b[39;00m \u001b[38;5;28mrange\u001b[39m(\u001b[38;5;28mlen\u001b[39m(phrase)):\n\u001b[1;32m----> 3\u001b[0m     \u001b[43mfill_db\u001b[49m([phrase[i]])\n",
      "\u001b[1;31mNameError\u001b[0m: name 'fill_db' is not defined"
     ]
    }
   ],
   "source": [
    "i=0\n",
    "for i in range(len(phrase)):\n",
    "    fill_db([phrase[i]])"
   ]
  },
  {
   "cell_type": "code",
   "execution_count": 48,
   "id": "f502fd1a",
   "metadata": {},
   "outputs": [
    {
     "data": {
      "text/plain": [
       "'белый дом'"
      ]
     },
     "execution_count": 48,
     "metadata": {},
     "output_type": "execute_result"
    }
   ],
   "source": [
    "phrase[0][1]"
   ]
  },
  {
   "cell_type": "code",
   "execution_count": 44,
   "id": "40334d79",
   "metadata": {},
   "outputs": [],
   "source": [
    "def dbconn(sql):\n",
    "    with pyodbc.connect('Driver={SQL Server};'\n",
    "                      'Server=DESKTOP-D39A2O2\\SQLEXPRESS;'\n",
    "                      'Database=ngram;'\n",
    "                      'Trusted_Connection=yes;') as conn:\n",
    "        cursor = conn.cursor()\n",
    "    #cursor.execute(\"SELECT Frase FROM dbo.Ngram where Frase = ?;\", phrase[0][1])\n",
    "    #cursor.commit()\n",
    "    return(cursor)"
   ]
  },
  {
   "cell_type": "code",
   "execution_count": 49,
   "id": "ae2caf7b",
   "metadata": {},
   "outputs": [
    {
     "ename": "ProgrammingError",
     "evalue": "('42S22', '[42S22] [Microsoft][ODBC SQL Server Driver][SQL Server]Недопустимое имя столбца \"Phrase\". (207) (SQLExecDirectW); [42S22] [Microsoft][ODBC SQL Server Driver][SQL Server]Недопустимое имя столбца \"Phrase\". (207); [42S22] [Microsoft][ODBC SQL Server Driver][SQL Server]Не удалось выполнить подготовку инструкций. (8180)')",
     "output_type": "error",
     "traceback": [
      "\u001b[1;31m---------------------------------------------------------------------------\u001b[0m",
      "\u001b[1;31mProgrammingError\u001b[0m                          Traceback (most recent call last)",
      "Cell \u001b[1;32mIn[49], line 1\u001b[0m\n\u001b[1;32m----> 1\u001b[0m dbconn(\u001b[43mcursor\u001b[49m\u001b[38;5;241;43m.\u001b[39;49m\u001b[43mexecute\u001b[49m\u001b[43m(\u001b[49m\u001b[38;5;124;43m\"\u001b[39;49m\u001b[38;5;124;43mSELECT Phrase FROM dbo.Ngram where Phrase = ?;\u001b[39;49m\u001b[38;5;124;43m\"\u001b[39;49m\u001b[43m,\u001b[49m\u001b[43m \u001b[49m\u001b[43mphrase\u001b[49m\u001b[43m[\u001b[49m\u001b[38;5;241;43m0\u001b[39;49m\u001b[43m]\u001b[49m\u001b[43m[\u001b[49m\u001b[38;5;241;43m1\u001b[39;49m\u001b[43m]\u001b[49m\u001b[43m)\u001b[49m)\n\u001b[0;32m      2\u001b[0m cursor\u001b[38;5;241m.\u001b[39mcommit()\n",
      "\u001b[1;31mProgrammingError\u001b[0m: ('42S22', '[42S22] [Microsoft][ODBC SQL Server Driver][SQL Server]Недопустимое имя столбца \"Phrase\". (207) (SQLExecDirectW); [42S22] [Microsoft][ODBC SQL Server Driver][SQL Server]Недопустимое имя столбца \"Phrase\". (207); [42S22] [Microsoft][ODBC SQL Server Driver][SQL Server]Не удалось выполнить подготовку инструкций. (8180)')"
     ]
    }
   ],
   "source": [
    "dbconn(cursor.execute(\"SELECT Phrase FROM dbo.Ngram where Phrase = ?;\", phrase[0][1]))\n",
    "cursor.commit()"
   ]
  },
  {
   "cell_type": "markdown",
   "id": "eb50358c",
   "metadata": {},
   "source": [
    "# Собираем функции"
   ]
  },
  {
   "cell_type": "code",
   "execution_count": 1,
   "id": "2b4e2fad",
   "metadata": {},
   "outputs": [],
   "source": [
    "text = [\"Сегодня теплый день.\"]"
   ]
  },
  {
   "cell_type": "code",
   "execution_count": 2,
   "id": "a5ad934f",
   "metadata": {},
   "outputs": [
    {
     "data": {
      "text/plain": [
       "['Сегодня теплый день.']"
      ]
     },
     "execution_count": 2,
     "metadata": {},
     "output_type": "execute_result"
    }
   ],
   "source": [
    "text"
   ]
  },
  {
   "cell_type": "code",
   "execution_count": 3,
   "id": "cc225652",
   "metadata": {},
   "outputs": [
    {
     "name": "stderr",
     "output_type": "stream",
     "text": [
      "[nltk_data] Downloading package wordnet to\n",
      "[nltk_data]     C:\\Users\\ILLA_0\\AppData\\Roaming\\nltk_data...\n",
      "[nltk_data]   Package wordnet is already up-to-date!\n"
     ]
    },
    {
     "data": {
      "text/plain": [
       "True"
      ]
     },
     "execution_count": 3,
     "metadata": {},
     "output_type": "execute_result"
    }
   ],
   "source": [
    "import nltk\n",
    "nltk.download('wordnet')"
   ]
  },
  {
   "cell_type": "code",
   "execution_count": 4,
   "id": "3d76b0df",
   "metadata": {},
   "outputs": [],
   "source": [
    "def create_connection():\n",
    "    with pyodbc.connect('Driver={SQL Server};'\n",
    "                      'Server=DESKTOP-D39A2O2\\SQLEXPRESS;'\n",
    "                      'Database=ngram;'\n",
    "                      'Trusted_Connection=yes;') as conn:\n",
    "        try:\n",
    "            print('connecting to database...')\n",
    "            cursor = conn.cursor()\n",
    "            print(\"Connection to DB successful\")\n",
    "        except Error as e:\n",
    "            print(f\"The error '{e}' occurred\")\n",
    "        return cursor"
   ]
  },
  {
   "cell_type": "code",
   "execution_count": 5,
   "id": "1b8c798f",
   "metadata": {},
   "outputs": [
    {
     "ename": "NameError",
     "evalue": "name 'pyodbc' is not defined",
     "output_type": "error",
     "traceback": [
      "\u001b[1;31m---------------------------------------------------------------------------\u001b[0m",
      "\u001b[1;31mNameError\u001b[0m                                 Traceback (most recent call last)",
      "Cell \u001b[1;32mIn[5], line 1\u001b[0m\n\u001b[1;32m----> 1\u001b[0m connection \u001b[38;5;241m=\u001b[39m \u001b[43mcreate_connection\u001b[49m\u001b[43m(\u001b[49m\u001b[43m)\u001b[49m\n",
      "Cell \u001b[1;32mIn[4], line 2\u001b[0m, in \u001b[0;36mcreate_connection\u001b[1;34m()\u001b[0m\n\u001b[0;32m      1\u001b[0m \u001b[38;5;28;01mdef\u001b[39;00m \u001b[38;5;21mcreate_connection\u001b[39m():\n\u001b[1;32m----> 2\u001b[0m     \u001b[38;5;28;01mwith\u001b[39;00m \u001b[43mpyodbc\u001b[49m\u001b[38;5;241m.\u001b[39mconnect(\u001b[38;5;124m'\u001b[39m\u001b[38;5;124mDriver=\u001b[39m\u001b[38;5;124m{\u001b[39m\u001b[38;5;124mSQL Server};\u001b[39m\u001b[38;5;124m'\u001b[39m\n\u001b[0;32m      3\u001b[0m                       \u001b[38;5;124m'\u001b[39m\u001b[38;5;124mServer=DESKTOP-D39A2O2\u001b[39m\u001b[38;5;124m\\\u001b[39m\u001b[38;5;124mSQLEXPRESS;\u001b[39m\u001b[38;5;124m'\u001b[39m\n\u001b[0;32m      4\u001b[0m                       \u001b[38;5;124m'\u001b[39m\u001b[38;5;124mDatabase=ngram;\u001b[39m\u001b[38;5;124m'\u001b[39m\n\u001b[0;32m      5\u001b[0m                       \u001b[38;5;124m'\u001b[39m\u001b[38;5;124mTrusted_Connection=yes;\u001b[39m\u001b[38;5;124m'\u001b[39m) \u001b[38;5;28;01mas\u001b[39;00m conn:\n\u001b[0;32m      6\u001b[0m         \u001b[38;5;28;01mtry\u001b[39;00m:\n\u001b[0;32m      7\u001b[0m             \u001b[38;5;28mprint\u001b[39m(\u001b[38;5;124m'\u001b[39m\u001b[38;5;124mconnecting to database...\u001b[39m\u001b[38;5;124m'\u001b[39m)\n",
      "\u001b[1;31mNameError\u001b[0m: name 'pyodbc' is not defined"
     ]
    }
   ],
   "source": [
    "connection = create_connection()"
   ]
  },
  {
   "cell_type": "code",
   "execution_count": 55,
   "id": "af5b18f8",
   "metadata": {},
   "outputs": [],
   "source": [
    "#Execute SQL write to DB\n",
    "def execute_write_query(connection, text):\n",
    "    for d in text:\n",
    "        print(d)\n",
    "    cursor.execute(\" insert into dbo.Text(dbo.Text, Phrase) values (?, ?) \", d)\n",
    "    cursor.commit()"
   ]
  },
  {
   "cell_type": "code",
   "execution_count": 56,
   "id": "8b19d5f2",
   "metadata": {},
   "outputs": [],
   "source": [
    "def execute_write_pos(connection, text, phrase):\n",
    "    #cursor = connection.cursor()\n",
    "    #TId = execute_read_query(connection, \"\"\"SELECT TOP 1 IDText FROM ngram.dbo.Text ORDER BY IDText DESC\"\"\")\n",
    "    #key = TId[0][0] + 1\n",
    "    #ins = [key, text]\n",
    "    cursor.executemany(\"\"\" insert into dbo.Text( Text) values ( ?);\"\"\", [text])\n",
    "    cursor.commit()\n",
    "    cursor.executemany(\"\"\" insert into dbo.Text( Phrase) values ( ?);\"\"\", [phrase[0][0]])\n",
    "    cursor.commit()"
   ]
  },
  {
   "cell_type": "code",
   "execution_count": 14,
   "id": "4367cdf5",
   "metadata": {},
   "outputs": [],
   "source": []
  },
  {
   "cell_type": "code",
   "execution_count": 57,
   "id": "874c74c9",
   "metadata": {},
   "outputs": [],
   "source": [
    "#Execute SQL read DB\n",
    "def execute_read_query(connection, query):\n",
    "    #cursor = connection.cursor()\n",
    "    result = None\n",
    "    try:\n",
    "        cursor.execute(query)\n",
    "        result = cursor.fetchall()\n",
    "        return result\n",
    "    except Error as e:\n",
    "        print(f\"The error '{e}' occurred\")"
   ]
  },
  {
   "cell_type": "code",
   "execution_count": 58,
   "id": "5e9def3c",
   "metadata": {},
   "outputs": [
    {
     "data": {
      "text/plain": [
       "['Сегодня теплый день.']"
      ]
     },
     "execution_count": 58,
     "metadata": {},
     "output_type": "execute_result"
    }
   ],
   "source": [
    "text"
   ]
  },
  {
   "cell_type": "code",
   "execution_count": 619,
   "id": "5a7a826f",
   "metadata": {},
   "outputs": [],
   "source": [
    "#Check\n",
    "\n",
    "#select_frase = (\"SELECT * FROM dbo.Text;\")\n",
    "\n",
    "#frases = execute_read_query(connection, select_frase)\n",
    "\n",
    "#for frase in frases:\n",
    "#    print(frase)"
   ]
  },
  {
   "cell_type": "code",
   "execution_count": null,
   "id": "04cc6dea",
   "metadata": {},
   "outputs": [],
   "source": [
    "#execute_write_query(connection, text)"
   ]
  },
  {
   "cell_type": "code",
   "execution_count": 59,
   "id": "fc848524",
   "metadata": {},
   "outputs": [],
   "source": [
    "from natasha import (\n",
    "    Segmenter,\n",
    "    MorphVocab,\n",
    "    NewsEmbedding,\n",
    "    NewsMorphTagger,\n",
    "    NewsSyntaxParser,\n",
    "    Doc\n",
    ")"
   ]
  },
  {
   "cell_type": "code",
   "execution_count": null,
   "id": "92acf97c",
   "metadata": {},
   "outputs": [],
   "source": []
  },
  {
   "cell_type": "code",
   "execution_count": 62,
   "id": "dcdae163",
   "metadata": {},
   "outputs": [],
   "source": [
    "with open('tomitaapp/test.txt', 'w', encoding='utf-8') as f:\n",
    "    f.write(str(text))"
   ]
  },
  {
   "cell_type": "code",
   "execution_count": 63,
   "id": "f684fd3e",
   "metadata": {},
   "outputs": [],
   "source": [
    "def tomparce(x):\n",
    "    with open(x, encoding=\"utf-8\") as file:\n",
    "        soup = BeautifulSoup(file, 'html.parser')\n",
    "    tables = pd.read_html(str(soup))\n",
    "    return(tables)"
   ]
  },
  {
   "cell_type": "code",
   "execution_count": 64,
   "id": "12f6cc06",
   "metadata": {},
   "outputs": [],
   "source": [
    "def tknz(wrd):\n",
    "    word_list = nltk.word_tokenize(wrd)\n",
    "    return(word_list)"
   ]
  },
  {
   "cell_type": "code",
   "execution_count": 67,
   "id": "081b5a29",
   "metadata": {},
   "outputs": [],
   "source": [
    "def extract():\n",
    "\t#txt0 = text\n",
    "\t##\n",
    "\t#run tomita for single file \n",
    "\t#with codecs.open('tomita app/test.txt', 'w', 'utf-8') as f:\n",
    "\t#\tf.write(str(txt0))\n",
    "\t\t\n",
    "\t#cmd = [\"./tomita app/tomitaparser.exe ./tomita app/config.proto\"]\n",
    "\tcommand = ['./tomitaparser.exe', './config.proto']\n",
    "\t# Run the command and capture the output\n",
    "\toutput = subprocess.check_output(command)\n",
    "\t##\n",
    "\t#return render_template('pretty.html')"
   ]
  },
  {
   "cell_type": "code",
   "execution_count": 69,
   "id": "b56b295f",
   "metadata": {},
   "outputs": [],
   "source": [
    "extract()"
   ]
  },
  {
   "cell_type": "code",
   "execution_count": 70,
   "id": "9c8bba72",
   "metadata": {},
   "outputs": [
    {
     "name": "stderr",
     "output_type": "stream",
     "text": [
      "C:\\Users\\ILLA_0\\AppData\\Local\\Temp\\ipykernel_34156\\200335538.py:4: FutureWarning: Passing literal html to 'read_html' is deprecated and will be removed in a future version. To read from a literal string, wrap it in a 'StringIO' object.\n",
      "  tables = pd.read_html(str(soup))\n"
     ]
    }
   ],
   "source": [
    "rslt = tomparce('./templates/pretty.html')[0]"
   ]
  },
  {
   "cell_type": "code",
   "execution_count": 78,
   "id": "f3fb0e9a",
   "metadata": {},
   "outputs": [
    {
     "data": {
      "text/html": [
       "<div>\n",
       "<style scoped>\n",
       "    .dataframe tbody tr th:only-of-type {\n",
       "        vertical-align: middle;\n",
       "    }\n",
       "\n",
       "    .dataframe tbody tr th {\n",
       "        vertical-align: top;\n",
       "    }\n",
       "\n",
       "    .dataframe thead th {\n",
       "        text-align: right;\n",
       "    }\n",
       "</style>\n",
       "<table border=\"1\" class=\"dataframe\">\n",
       "  <thead>\n",
       "    <tr style=\"text-align: right;\">\n",
       "      <th></th>\n",
       "      <th>Text</th>\n",
       "      <th>Type</th>\n",
       "      <th>toks</th>\n",
       "    </tr>\n",
       "  </thead>\n",
       "  <tbody>\n",
       "    <tr>\n",
       "      <th>0</th>\n",
       "      <td>теплый день</td>\n",
       "      <td>TAuxDicArticle [СущПрил]</td>\n",
       "      <td>[теплый, день]</td>\n",
       "    </tr>\n",
       "  </tbody>\n",
       "</table>\n",
       "</div>"
      ],
      "text/plain": [
       "          Text                      Type            toks\n",
       "0  теплый день  TAuxDicArticle [СущПрил]  [теплый, день]"
      ]
     },
     "execution_count": 78,
     "metadata": {},
     "output_type": "execute_result"
    }
   ],
   "source": [
    "rslt\n"
   ]
  },
  {
   "cell_type": "code",
   "execution_count": 74,
   "id": "d0907e9c",
   "metadata": {},
   "outputs": [],
   "source": [
    "#Tokens\n",
    "rslt['toks'] = rslt.apply(lambda row: nltk.word_tokenize(row['Text']), axis=1)"
   ]
  },
  {
   "cell_type": "code",
   "execution_count": 77,
   "id": "771735c7",
   "metadata": {},
   "outputs": [
    {
     "ename": "NameError",
     "evalue": "name 'lines' is not defined",
     "output_type": "error",
     "traceback": [
      "\u001b[1;31m---------------------------------------------------------------------------\u001b[0m",
      "\u001b[1;31mNameError\u001b[0m                                 Traceback (most recent call last)",
      "Cell \u001b[1;32mIn[77], line 3\u001b[0m\n\u001b[0;32m      1\u001b[0m \u001b[38;5;66;03m#Add text to each cell\u001b[39;00m\n\u001b[0;32m      2\u001b[0m \u001b[38;5;28;01mfor\u001b[39;00m line \u001b[38;5;129;01min\u001b[39;00m \u001b[38;5;28mrange\u001b[39m(\u001b[38;5;28mlen\u001b[39m(rslt[\u001b[38;5;124m'\u001b[39m\u001b[38;5;124mText\u001b[39m\u001b[38;5;124m'\u001b[39m])):\n\u001b[1;32m----> 3\u001b[0m     rslt[\u001b[38;5;124m'\u001b[39m\u001b[38;5;124mtxt\u001b[39m\u001b[38;5;124m'\u001b[39m]\u001b[38;5;241m=\u001b[39m \u001b[43mlines\u001b[49m[\u001b[38;5;241m0\u001b[39m]\n",
      "\u001b[1;31mNameError\u001b[0m: name 'lines' is not defined"
     ]
    }
   ],
   "source": [
    "#Add text to each cell\n",
    "for line in range(len(rslt['Text'])):\n",
    "    rslt['txt']= lines[0]"
   ]
  },
  {
   "cell_type": "code",
   "execution_count": 84,
   "id": "64574be0",
   "metadata": {},
   "outputs": [],
   "source": [
    "rslt['txt']=text"
   ]
  },
  {
   "cell_type": "code",
   "execution_count": 85,
   "id": "77122117",
   "metadata": {},
   "outputs": [
    {
     "data": {
      "text/html": [
       "<div>\n",
       "<style scoped>\n",
       "    .dataframe tbody tr th:only-of-type {\n",
       "        vertical-align: middle;\n",
       "    }\n",
       "\n",
       "    .dataframe tbody tr th {\n",
       "        vertical-align: top;\n",
       "    }\n",
       "\n",
       "    .dataframe thead th {\n",
       "        text-align: right;\n",
       "    }\n",
       "</style>\n",
       "<table border=\"1\" class=\"dataframe\">\n",
       "  <thead>\n",
       "    <tr style=\"text-align: right;\">\n",
       "      <th></th>\n",
       "      <th>Text</th>\n",
       "      <th>Type</th>\n",
       "      <th>toks</th>\n",
       "      <th>txt</th>\n",
       "    </tr>\n",
       "  </thead>\n",
       "  <tbody>\n",
       "    <tr>\n",
       "      <th>0</th>\n",
       "      <td>теплый день</td>\n",
       "      <td>TAuxDicArticle [СущПрил]</td>\n",
       "      <td>[теплый, день]</td>\n",
       "      <td>Сегодня теплый день.</td>\n",
       "    </tr>\n",
       "  </tbody>\n",
       "</table>\n",
       "</div>"
      ],
      "text/plain": [
       "          Text                      Type            toks                   txt\n",
       "0  теплый день  TAuxDicArticle [СущПрил]  [теплый, день]  Сегодня теплый день."
      ]
     },
     "execution_count": 85,
     "metadata": {},
     "output_type": "execute_result"
    }
   ],
   "source": [
    "rslt"
   ]
  },
  {
   "cell_type": "code",
   "execution_count": 86,
   "id": "0c7c82fb",
   "metadata": {},
   "outputs": [],
   "source": [
    "#Ecec to DB\n",
    "cnxn = pyodbc.connect('Driver={SQL Server};'\n",
    "                      'Server=DESKTOP-D39A2O2\\SQLEXPRESS;'\n",
    "                      'Database=ngram;'\n",
    "                      'Trusted_Connection=yes;')\n",
    "cursor = cnxn.cursor()\n",
    "\n",
    "# Insert Dataframe into SQL Server:\n",
    "for index, row in rslt.iterrows():\n",
    "     cursor.execute(\"insert into dbo.Text(dbo.Text, Phrase) values (?, ?)\", row.txt, row.Text)\n",
    "cnxn.commit()\n",
    "cursor.close()"
   ]
  },
  {
   "cell_type": "code",
   "execution_count": 87,
   "id": "628dabc0",
   "metadata": {},
   "outputs": [],
   "source": [
    "#def getTextID(x):\n",
    "def getIDText(ph):\n",
    "    phr = ph\n",
    "    with pyodbc.connect('Driver={SQL Server};'\n",
    "                      'Server=DESKTOP-D39A2O2\\SQLEXPRESS;'\n",
    "                      'Database=ngram;'\n",
    "                      'Trusted_Connection=yes;') as conn:\n",
    "        cursor = conn.cursor()\n",
    "        cursor.execute(\"\"\"SELECT IDText FROM dbo.Text where Phrase = ?;\"\"\", phr)   \n",
    "        #cursor.commit()\n",
    "        records = cursor.fetchall()\n",
    "        cursor.close\n",
    "    return(records[0][0])"
   ]
  },
  {
   "cell_type": "code",
   "execution_count": 92,
   "id": "e63fcdc2",
   "metadata": {},
   "outputs": [
    {
     "name": "stdout",
     "output_type": "stream",
     "text": [
      "19012\n"
     ]
    }
   ],
   "source": [
    "print(getIDText(\"теплый день\"))"
   ]
  },
  {
   "cell_type": "code",
   "execution_count": 91,
   "id": "defe5f07",
   "metadata": {},
   "outputs": [
    {
     "data": {
      "text/plain": [
       "'теплый день'"
      ]
     },
     "execution_count": 91,
     "metadata": {},
     "output_type": "execute_result"
    }
   ],
   "source": [
    "rslt['Text'][0]"
   ]
  },
  {
   "cell_type": "code",
   "execution_count": 715,
   "id": "552af600",
   "metadata": {},
   "outputs": [],
   "source": [
    "##Add words collocation ito DB"
   ]
  },
  {
   "cell_type": "code",
   "execution_count": 99,
   "id": "c6a52329",
   "metadata": {},
   "outputs": [
    {
     "data": {
      "text/plain": [
       "'теплый'"
      ]
     },
     "execution_count": 99,
     "metadata": {},
     "output_type": "execute_result"
    }
   ],
   "source": [
    "rslt['toks'][0][0]"
   ]
  },
  {
   "cell_type": "code",
   "execution_count": 100,
   "id": "8acc8f4d",
   "metadata": {},
   "outputs": [
    {
     "ename": "KeyError",
     "evalue": "1",
     "output_type": "error",
     "traceback": [
      "\u001b[1;31m---------------------------------------------------------------------------\u001b[0m",
      "\u001b[1;31mValueError\u001b[0m                                Traceback (most recent call last)",
      "File \u001b[1;32m~\\AppData\\Roaming\\Python\\Python310\\site-packages\\pandas\\core\\indexes\\range.py:414\u001b[0m, in \u001b[0;36mRangeIndex.get_loc\u001b[1;34m(self, key)\u001b[0m\n\u001b[0;32m    413\u001b[0m \u001b[38;5;28;01mtry\u001b[39;00m:\n\u001b[1;32m--> 414\u001b[0m     \u001b[38;5;28;01mreturn\u001b[39;00m \u001b[38;5;28;43mself\u001b[39;49m\u001b[38;5;241;43m.\u001b[39;49m\u001b[43m_range\u001b[49m\u001b[38;5;241;43m.\u001b[39;49m\u001b[43mindex\u001b[49m\u001b[43m(\u001b[49m\u001b[43mnew_key\u001b[49m\u001b[43m)\u001b[49m\n\u001b[0;32m    415\u001b[0m \u001b[38;5;28;01mexcept\u001b[39;00m \u001b[38;5;167;01mValueError\u001b[39;00m \u001b[38;5;28;01mas\u001b[39;00m err:\n",
      "\u001b[1;31mValueError\u001b[0m: 1 is not in range",
      "\nThe above exception was the direct cause of the following exception:\n",
      "\u001b[1;31mKeyError\u001b[0m                                  Traceback (most recent call last)",
      "Cell \u001b[1;32mIn[100], line 5\u001b[0m\n\u001b[0;32m      3\u001b[0m t0 \u001b[38;5;241m=\u001b[39m rslt[\u001b[38;5;124m'\u001b[39m\u001b[38;5;124mtoks\u001b[39m\u001b[38;5;124m'\u001b[39m][\u001b[38;5;241m0\u001b[39m][\u001b[38;5;241m0\u001b[39m],getIDText(rslt[\u001b[38;5;124m'\u001b[39m\u001b[38;5;124mText\u001b[39m\u001b[38;5;124m'\u001b[39m][\u001b[38;5;241m0\u001b[39m])\n\u001b[0;32m      4\u001b[0m t1 \u001b[38;5;241m=\u001b[39m rslt[\u001b[38;5;124m'\u001b[39m\u001b[38;5;124mtoks\u001b[39m\u001b[38;5;124m'\u001b[39m][\u001b[38;5;241m0\u001b[39m][\u001b[38;5;241m1\u001b[39m],getIDText(rslt[\u001b[38;5;124m'\u001b[39m\u001b[38;5;124mText\u001b[39m\u001b[38;5;124m'\u001b[39m][\u001b[38;5;241m0\u001b[39m])\n\u001b[1;32m----> 5\u001b[0m t2 \u001b[38;5;241m=\u001b[39m \u001b[43mrslt\u001b[49m\u001b[43m[\u001b[49m\u001b[38;5;124;43m'\u001b[39;49m\u001b[38;5;124;43mtoks\u001b[39;49m\u001b[38;5;124;43m'\u001b[39;49m\u001b[43m]\u001b[49m\u001b[43m[\u001b[49m\u001b[38;5;241;43m1\u001b[39;49m\u001b[43m]\u001b[49m[\u001b[38;5;241m0\u001b[39m],getIDText(rslt[\u001b[38;5;124m'\u001b[39m\u001b[38;5;124mText\u001b[39m\u001b[38;5;124m'\u001b[39m][\u001b[38;5;241m2\u001b[39m])\n\u001b[0;32m      6\u001b[0m t3 \u001b[38;5;241m=\u001b[39m rslt[\u001b[38;5;124m'\u001b[39m\u001b[38;5;124mtoks\u001b[39m\u001b[38;5;124m'\u001b[39m][\u001b[38;5;241m2\u001b[39m][\u001b[38;5;241m1\u001b[39m],getIDText(rslt[\u001b[38;5;124m'\u001b[39m\u001b[38;5;124mText\u001b[39m\u001b[38;5;124m'\u001b[39m][\u001b[38;5;241m2\u001b[39m])\n\u001b[0;32m      7\u001b[0m tf\u001b[38;5;241m.\u001b[39mappend(t0)\n",
      "File \u001b[1;32m~\\AppData\\Roaming\\Python\\Python310\\site-packages\\pandas\\core\\series.py:1040\u001b[0m, in \u001b[0;36mSeries.__getitem__\u001b[1;34m(self, key)\u001b[0m\n\u001b[0;32m   1037\u001b[0m     \u001b[38;5;28;01mreturn\u001b[39;00m \u001b[38;5;28mself\u001b[39m\u001b[38;5;241m.\u001b[39m_values[key]\n\u001b[0;32m   1039\u001b[0m \u001b[38;5;28;01melif\u001b[39;00m key_is_scalar:\n\u001b[1;32m-> 1040\u001b[0m     \u001b[38;5;28;01mreturn\u001b[39;00m \u001b[38;5;28;43mself\u001b[39;49m\u001b[38;5;241;43m.\u001b[39;49m\u001b[43m_get_value\u001b[49m\u001b[43m(\u001b[49m\u001b[43mkey\u001b[49m\u001b[43m)\u001b[49m\n\u001b[0;32m   1042\u001b[0m \u001b[38;5;66;03m# Convert generator to list before going through hashable part\u001b[39;00m\n\u001b[0;32m   1043\u001b[0m \u001b[38;5;66;03m# (We will iterate through the generator there to check for slices)\u001b[39;00m\n\u001b[0;32m   1044\u001b[0m \u001b[38;5;28;01mif\u001b[39;00m is_iterator(key):\n",
      "File \u001b[1;32m~\\AppData\\Roaming\\Python\\Python310\\site-packages\\pandas\\core\\series.py:1156\u001b[0m, in \u001b[0;36mSeries._get_value\u001b[1;34m(self, label, takeable)\u001b[0m\n\u001b[0;32m   1153\u001b[0m     \u001b[38;5;28;01mreturn\u001b[39;00m \u001b[38;5;28mself\u001b[39m\u001b[38;5;241m.\u001b[39m_values[label]\n\u001b[0;32m   1155\u001b[0m \u001b[38;5;66;03m# Similar to Index.get_value, but we do not fall back to positional\u001b[39;00m\n\u001b[1;32m-> 1156\u001b[0m loc \u001b[38;5;241m=\u001b[39m \u001b[38;5;28;43mself\u001b[39;49m\u001b[38;5;241;43m.\u001b[39;49m\u001b[43mindex\u001b[49m\u001b[38;5;241;43m.\u001b[39;49m\u001b[43mget_loc\u001b[49m\u001b[43m(\u001b[49m\u001b[43mlabel\u001b[49m\u001b[43m)\u001b[49m\n\u001b[0;32m   1158\u001b[0m \u001b[38;5;28;01mif\u001b[39;00m is_integer(loc):\n\u001b[0;32m   1159\u001b[0m     \u001b[38;5;28;01mreturn\u001b[39;00m \u001b[38;5;28mself\u001b[39m\u001b[38;5;241m.\u001b[39m_values[loc]\n",
      "File \u001b[1;32m~\\AppData\\Roaming\\Python\\Python310\\site-packages\\pandas\\core\\indexes\\range.py:416\u001b[0m, in \u001b[0;36mRangeIndex.get_loc\u001b[1;34m(self, key)\u001b[0m\n\u001b[0;32m    414\u001b[0m         \u001b[38;5;28;01mreturn\u001b[39;00m \u001b[38;5;28mself\u001b[39m\u001b[38;5;241m.\u001b[39m_range\u001b[38;5;241m.\u001b[39mindex(new_key)\n\u001b[0;32m    415\u001b[0m     \u001b[38;5;28;01mexcept\u001b[39;00m \u001b[38;5;167;01mValueError\u001b[39;00m \u001b[38;5;28;01mas\u001b[39;00m err:\n\u001b[1;32m--> 416\u001b[0m         \u001b[38;5;28;01mraise\u001b[39;00m \u001b[38;5;167;01mKeyError\u001b[39;00m(key) \u001b[38;5;28;01mfrom\u001b[39;00m \u001b[38;5;21;01merr\u001b[39;00m\n\u001b[0;32m    417\u001b[0m \u001b[38;5;28;01mif\u001b[39;00m \u001b[38;5;28misinstance\u001b[39m(key, Hashable):\n\u001b[0;32m    418\u001b[0m     \u001b[38;5;28;01mraise\u001b[39;00m \u001b[38;5;167;01mKeyError\u001b[39;00m(key)\n",
      "\u001b[1;31mKeyError\u001b[0m: 1"
     ]
    }
   ],
   "source": [
    "#Forming data structure (Example)\n",
    "tf = []\n",
    "t0 = rslt['toks'][0][0],getIDText(rslt['Text'][0])\n",
    "t1 = rslt['toks'][0][1],getIDText(rslt['Text'][0])\n",
    "t2 = rslt['toks'][1][0],getIDText(rslt['Text'][2])\n",
    "t3 = rslt['toks'][2][1],getIDText(rslt['Text'][2])\n",
    "tf.append(t0)\n",
    "#tf = [t0, t1]\n",
    "#tf = tf.insert(0, tmp)\n",
    "#tf = tf.extend(t2, t3)\n",
    "print(tf)"
   ]
  },
  {
   "cell_type": "code",
   "execution_count": 963,
   "id": "1458ff7a",
   "metadata": {},
   "outputs": [],
   "source": [
    "tf.append(t3)"
   ]
  },
  {
   "cell_type": "code",
   "execution_count": 964,
   "id": "47c1141a",
   "metadata": {},
   "outputs": [
    {
     "data": {
      "text/plain": [
       "[('большой', 19007),\n",
       " ('университет', 19007),\n",
       " ('белый', 19009),\n",
       " (('белый', 19009), ('роща', 19009))]"
      ]
     },
     "execution_count": 964,
     "metadata": {},
     "output_type": "execute_result"
    }
   ],
   "source": [
    "tf"
   ]
  },
  {
   "cell_type": "code",
   "execution_count": 101,
   "id": "87705fc7",
   "metadata": {},
   "outputs": [
    {
     "name": "stdout",
     "output_type": "stream",
     "text": [
      "[('теплый', 19012)]\n"
     ]
    }
   ],
   "source": [
    "#Structure\n",
    "cort = ()\n",
    "wrd = []\n",
    "PhData= ()\n",
    "lst = []\n",
    "for i in range(len(rslt['toks'])):\n",
    "    #print(rslt['toks'][i][0])\n",
    "    wrd = rslt['toks'][i][0]\n",
    "    idT = getIDText(rslt['Text'][i])\n",
    "    PhData = wrd, idT\n",
    "    if len(PhData)==0:\n",
    "        lst.append(PhData)\n",
    "        wrd = ''\n",
    "        wrd = ''\n",
    "        wrd = rslt['toks'][i][1]\n",
    "    #PhData =  (PhData, (wrd, idT))\n",
    "        #PhData = PhData, (wrd,idT)\n",
    "        i=i+1\n",
    "    else:#print(PhData)\n",
    "        wrd = rslt['toks'][i][0]\n",
    "        idT = getIDText(rslt['Text'][i])\n",
    "        PhData = wrd, idT\n",
    "        lst.append(PhData)\n",
    "        wrd = ''\n",
    "        wrd = rslt['toks'][i][1]\n",
    "    #PhData =  (PhData, (wrd, idT))\n",
    "        #PhData = PhData, (wrd,idT)\n",
    "        print(lst)\n",
    "        PhData = ''\n",
    "        wrd = ''\n",
    "        idT = ''\n",
    "        i=i+1"
   ]
  },
  {
   "cell_type": "code",
   "execution_count": 109,
   "id": "9513ab36",
   "metadata": {},
   "outputs": [
    {
     "data": {
      "text/plain": [
       "[('теплый', 19012)]"
      ]
     },
     "execution_count": 109,
     "metadata": {},
     "output_type": "execute_result"
    }
   ],
   "source": [
    "lst"
   ]
  },
  {
   "cell_type": "code",
   "execution_count": 112,
   "id": "e51b2e59",
   "metadata": {},
   "outputs": [],
   "source": [
    "#Coll-ion SQL insert\n",
    "def execute_write_toks(connection,tt):\n",
    "    for d in tt:\n",
    "        cursor.execute(\" insert into dbo.Ngram(dbo.Word, IDText) values (?, ?) \", d)\n",
    "        cursor.commit()"
   ]
  },
  {
   "cell_type": "code",
   "execution_count": 113,
   "id": "50a6bfc1",
   "metadata": {},
   "outputs": [
    {
     "ename": "ProgrammingError",
     "evalue": "Attempt to use a closed cursor.",
     "output_type": "error",
     "traceback": [
      "\u001b[1;31m---------------------------------------------------------------------------\u001b[0m",
      "\u001b[1;31mProgrammingError\u001b[0m                          Traceback (most recent call last)",
      "Cell \u001b[1;32mIn[113], line 1\u001b[0m\n\u001b[1;32m----> 1\u001b[0m \u001b[43mexecute_write_toks\u001b[49m\u001b[43m(\u001b[49m\u001b[43mconnection\u001b[49m\u001b[43m,\u001b[49m\u001b[43m \u001b[49m\u001b[43mlst\u001b[49m\u001b[43m)\u001b[49m\n",
      "Cell \u001b[1;32mIn[112], line 4\u001b[0m, in \u001b[0;36mexecute_write_toks\u001b[1;34m(connection, tt)\u001b[0m\n\u001b[0;32m      2\u001b[0m \u001b[38;5;28;01mdef\u001b[39;00m \u001b[38;5;21mexecute_write_toks\u001b[39m(connection,tt):\n\u001b[0;32m      3\u001b[0m     \u001b[38;5;28;01mfor\u001b[39;00m d \u001b[38;5;129;01min\u001b[39;00m tt:\n\u001b[1;32m----> 4\u001b[0m         \u001b[43mcursor\u001b[49m\u001b[38;5;241;43m.\u001b[39;49m\u001b[43mexecute\u001b[49m\u001b[43m(\u001b[49m\u001b[38;5;124;43m\"\u001b[39;49m\u001b[38;5;124;43m insert into dbo.Ngram(dbo.Word, IDText) values (?, ?) \u001b[39;49m\u001b[38;5;124;43m\"\u001b[39;49m\u001b[43m,\u001b[49m\u001b[43m \u001b[49m\u001b[43md\u001b[49m\u001b[43m)\u001b[49m\n\u001b[0;32m      5\u001b[0m         cursor\u001b[38;5;241m.\u001b[39mcommit()\n",
      "\u001b[1;31mProgrammingError\u001b[0m: Attempt to use a closed cursor."
     ]
    }
   ],
   "source": [
    "execute_write_toks(connection, lst)"
   ]
  },
  {
   "cell_type": "code",
   "execution_count": 845,
   "id": "31b26170",
   "metadata": {},
   "outputs": [
    {
     "data": {
      "text/plain": [
       "2"
      ]
     },
     "execution_count": 845,
     "metadata": {},
     "output_type": "execute_result"
    }
   ],
   "source": [
    "#Insert PoS\n",
    "from natasha import (\n",
    "    Segmenter,\n",
    "    MorphVocab,\n",
    "    NewsEmbedding,\n",
    "    NewsMorphTagger,\n",
    "    NewsSyntaxParser,\n",
    "    Doc\n",
    ")"
   ]
  },
  {
   "cell_type": "code",
   "execution_count": 989,
   "id": "831d5b97",
   "metadata": {},
   "outputs": [],
   "source": [
    "def extrpos(sent):\n",
    "    morph_vocab = MorphVocab()\n",
    "    segmenter = Segmenter()\n",
    "    emb = NewsEmbedding()\n",
    "    morph_tagger = NewsMorphTagger(emb)\n",
    "    syntax_parser = NewsSyntaxParser(emb)\n",
    "    doc = Doc(sent)\n",
    "    doc.segment(segmenter)\n",
    "    doc.tag_morph(morph_tagger)\n",
    "    return(doc)"
   ]
  },
  {
   "cell_type": "code",
   "execution_count": 1003,
   "id": "0c1a9b7a",
   "metadata": {},
   "outputs": [
    {
     "data": {
      "text/plain": [
       "'большой университет'"
      ]
     },
     "execution_count": 1003,
     "metadata": {},
     "output_type": "execute_result"
    }
   ],
   "source": [
    "#checkpos = extrpos(rslt['Text'][1][0])\n",
    "rslt['Text'][0]"
   ]
  },
  {
   "cell_type": "code",
   "execution_count": 1005,
   "id": "3ca5d3b1",
   "metadata": {},
   "outputs": [
    {
     "data": {
      "text/plain": [
       "\"['В Томске можно найти большой университет, белый дом, университетскую рощу']\""
      ]
     },
     "execution_count": 1005,
     "metadata": {},
     "output_type": "execute_result"
    }
   ],
   "source": [
    "rslt['txt'][0]"
   ]
  },
  {
   "cell_type": "code",
   "execution_count": 1012,
   "id": "0518bd54",
   "metadata": {},
   "outputs": [
    {
     "name": "stdout",
     "output_type": "stream",
     "text": [
      "Подстрока найдена!\n",
      "Подстрока найдена!\n",
      "Подстрока найдена!\n",
      "Подстрока найдена!\n"
     ]
    }
   ],
   "source": [
    "fullstring = rslt['txt'][0]\n",
    "substring = rslt['Text'][0]\n",
    "if substring in fullstring:\n",
    "    print(\"Подстрока найдена!\")\n",
    "else:\n",
    "    print(\"Подстрока не найдена!\")\n",
    "    \n",
    "try:\n",
    "    fullstring.index(substring)\n",
    "except ValueError:\n",
    "    print(\"Подстрока не найдена!\")\n",
    "else:\n",
    "    print(\"Подстрока найдена!\")\n",
    "    \n",
    "if fullstring.find(substring) != -1:\n",
    "    print(\"Подстрока найдена!\")\n",
    "else:\n",
    "    print(\"Подстрока не найдена!\")\n",
    "\n",
    "from re import search\n",
    "if search(substring, fullstring):\n",
    "    print(\"Подстрока найдена!\")\n",
    "else:\n",
    "    print(\"Подстрока не найдена!\")"
   ]
  },
  {
   "cell_type": "code",
   "execution_count": 111,
   "id": "6d9615fe",
   "metadata": {},
   "outputs": [
    {
     "ename": "NameError",
     "evalue": "name 'extrpos' is not defined",
     "output_type": "error",
     "traceback": [
      "\u001b[1;31m---------------------------------------------------------------------------\u001b[0m",
      "\u001b[1;31mNameError\u001b[0m                                 Traceback (most recent call last)",
      "Cell \u001b[1;32mIn[111], line 1\u001b[0m\n\u001b[1;32m----> 1\u001b[0m checkpos \u001b[38;5;241m=\u001b[39m \u001b[43mextrpos\u001b[49m(rslt[\u001b[38;5;124m'\u001b[39m\u001b[38;5;124mText\u001b[39m\u001b[38;5;124m'\u001b[39m][\u001b[38;5;241m1\u001b[39m])\n",
      "\u001b[1;31mNameError\u001b[0m: name 'extrpos' is not defined"
     ]
    }
   ],
   "source": [
    "checkpos = extrpos(rslt['Text'][1])"
   ]
  },
  {
   "cell_type": "code",
   "execution_count": null,
   "id": "6e8756a5",
   "metadata": {},
   "outputs": [],
   "source": []
  },
  {
   "cell_type": "code",
   "execution_count": 110,
   "id": "50119d83",
   "metadata": {},
   "outputs": [
    {
     "ename": "NameError",
     "evalue": "name 'checkpos' is not defined",
     "output_type": "error",
     "traceback": [
      "\u001b[1;31m---------------------------------------------------------------------------\u001b[0m",
      "\u001b[1;31mNameError\u001b[0m                                 Traceback (most recent call last)",
      "Cell \u001b[1;32mIn[110], line 1\u001b[0m\n\u001b[1;32m----> 1\u001b[0m \u001b[38;5;28;01mfor\u001b[39;00m token \u001b[38;5;129;01min\u001b[39;00m \u001b[43mcheckpos\u001b[49m\u001b[38;5;241m.\u001b[39mtokens:\n\u001b[0;32m      2\u001b[0m     \u001b[38;5;28mprint\u001b[39m(token\u001b[38;5;241m.\u001b[39mpos, token\u001b[38;5;241m.\u001b[39mtext)\n",
      "\u001b[1;31mNameError\u001b[0m: name 'checkpos' is not defined"
     ]
    }
   ],
   "source": [
    "for token in checkpos.tokens:\n",
    "    print(token.pos, token.text)"
   ]
  },
  {
   "cell_type": "code",
   "execution_count": 981,
   "id": "c148f6f6",
   "metadata": {},
   "outputs": [],
   "source": [
    "def getIDWord(ph):\n",
    "    phr = ph\n",
    "    with pyodbc.connect('Driver={SQL Server};'\n",
    "                      'Server=DESKTOP-D39A2O2\\SQLEXPRESS;'\n",
    "                      'Database=ngram;'\n",
    "                      'Trusted_Connection=yes;') as conn:\n",
    "        cursor = conn.cursor()\n",
    "        cursor.execute(\"\"\"SELECT IDWord FROM dbo.Ngram where Word = ?;\"\"\", phr)   \n",
    "        #cursor.commit()\n",
    "        records = cursor.fetchall()\n",
    "        cursor.close\n",
    "    return(records[0][0])"
   ]
  },
  {
   "cell_type": "code",
   "execution_count": 986,
   "id": "e9cb2a30",
   "metadata": {},
   "outputs": [
    {
     "name": "stdout",
     "output_type": "stream",
     "text": [
      "ADJ большой\n",
      "NOUN университет\n"
     ]
    }
   ],
   "source": [
    "getIDWord(rslt['toks'][0][0])\n",
    "for token in doc.tokens:\n",
    "    print(token.pos, token.text)"
   ]
  },
  {
   "cell_type": "code",
   "execution_count": 988,
   "id": "b7a01133",
   "metadata": {},
   "outputs": [
    {
     "data": {
      "text/plain": [
       "\"['В Томске можно найти большой университет, белый дом, университетскую рощу']\""
      ]
     },
     "execution_count": 988,
     "metadata": {},
     "output_type": "execute_result"
    }
   ],
   "source": [
    "rslt['txt'][0]"
   ]
  },
  {
   "cell_type": "code",
   "execution_count": null,
   "id": "307a6f33",
   "metadata": {},
   "outputs": [],
   "source": [
    "cort = ()\n",
    "wrd = []\n",
    "posw = []\n",
    "PhData= ()\n",
    "lst = []\n",
    "for i in range(len(rslt['toks'])):\n",
    "    #print(rslt['toks'][i][0])\n",
    "    wrd = rslt['toks'][i][0]\n",
    "    idT = getIDText(rslt['Text'][i])\n",
    "    idW = getIDWord(wrd)\n",
    "    posw = extrpos(wrd)\n",
    "    PhData = wrd, idT\n",
    "    if len(PhData)==0:\n",
    "        lst.append(PhData)\n",
    "        wrd = ''\n",
    "        wrd = ''\n",
    "        wrd = rslt['toks'][i][1]\n",
    "    #PhData =  (PhData, (wrd, idT))\n",
    "        #PhData = PhData, (wrd,idT)\n",
    "        i=i+1\n",
    "    else:#print(PhData)\n",
    "        wrd = rslt['toks'][i][0]\n",
    "        idT = getIDText(rslt['Text'][i])\n",
    "        PhData = wrd, idT\n",
    "        lst.append(PhData)\n",
    "        wrd = ''\n",
    "        wrd = rslt['toks'][i][1]\n",
    "    #PhData =  (PhData, (wrd, idT))\n",
    "        #PhData = PhData, (wrd,idT)\n",
    "        print(lst)\n",
    "        PhData = ''\n",
    "        wrd = ''\n",
    "        idT = ''\n",
    "        i=i+1"
   ]
  },
  {
   "cell_type": "code",
   "execution_count": null,
   "id": "db78aaea",
   "metadata": {},
   "outputs": [],
   "source": [
    "for token in doc.tokens:\n",
    "    print(token.pos, token.text)"
   ]
  },
  {
   "cell_type": "code",
   "execution_count": 983,
   "id": "a6150ad3",
   "metadata": {},
   "outputs": [
    {
     "data": {
      "text/plain": [
       "'большой'"
      ]
     },
     "execution_count": 983,
     "metadata": {},
     "output_type": "execute_result"
    }
   ],
   "source": [
    "rslt['toks'][0][0]"
   ]
  },
  {
   "cell_type": "code",
   "execution_count": 887,
   "id": "933f2912",
   "metadata": {},
   "outputs": [
    {
     "name": "stdout",
     "output_type": "stream",
     "text": [
      "(((('большой', 19007), ('белый', 19008)), ('дом', 19008)), ('университетская', 19009))\n",
      "('роща', 19009)\n"
     ]
    }
   ],
   "source": [
    "for d in tmp[0]:\n",
    "    print(d)\n"
   ]
  },
  {
   "cell_type": "code",
   "execution_count": 847,
   "id": "28ec0097",
   "metadata": {},
   "outputs": [
    {
     "ename": "Error",
     "evalue": "('HY004', '[HY004] [Microsoft][ODBC SQL Server Driver]Недопустимый тип данных SQL (0) (SQLBindParameter)')",
     "output_type": "error",
     "traceback": [
      "\u001b[1;31m---------------------------------------------------------------------------\u001b[0m",
      "\u001b[1;31mError\u001b[0m                                     Traceback (most recent call last)",
      "Cell \u001b[1;32mIn[847], line 1\u001b[0m\n\u001b[1;32m----> 1\u001b[0m \u001b[43mexecute_write_toks\u001b[49m\u001b[43m(\u001b[49m\u001b[43mconnection\u001b[49m\u001b[43m,\u001b[49m\u001b[43m \u001b[49m\u001b[43mPhData\u001b[49m\u001b[43m)\u001b[49m\n",
      "Cell \u001b[1;32mIn[782], line 4\u001b[0m, in \u001b[0;36mexecute_write_toks\u001b[1;34m(connection, tt)\u001b[0m\n\u001b[0;32m      2\u001b[0m \u001b[38;5;28;01mdef\u001b[39;00m \u001b[38;5;21mexecute_write_toks\u001b[39m(connection,tt):\n\u001b[0;32m      3\u001b[0m     \u001b[38;5;28;01mfor\u001b[39;00m d \u001b[38;5;129;01min\u001b[39;00m tt:\n\u001b[1;32m----> 4\u001b[0m         \u001b[43mcursor\u001b[49m\u001b[38;5;241;43m.\u001b[39;49m\u001b[43mexecute\u001b[49m\u001b[43m(\u001b[49m\u001b[38;5;124;43m\"\u001b[39;49m\u001b[38;5;124;43m insert into dbo.Ngram(dbo.Word, IDText) values (?, ?) \u001b[39;49m\u001b[38;5;124;43m\"\u001b[39;49m\u001b[43m,\u001b[49m\u001b[43m \u001b[49m\u001b[43md\u001b[49m\u001b[43m)\u001b[49m\n\u001b[0;32m      5\u001b[0m         cursor\u001b[38;5;241m.\u001b[39mcommit()\n",
      "\u001b[1;31mError\u001b[0m: ('HY004', '[HY004] [Microsoft][ODBC SQL Server Driver]Недопустимый тип данных SQL (0) (SQLBindParameter)')"
     ]
    }
   ],
   "source": [
    "execute_write_toks(connection, PhData)"
   ]
  },
  {
   "cell_type": "code",
   "execution_count": 703,
   "id": "07645871",
   "metadata": {},
   "outputs": [
    {
     "name": "stdout",
     "output_type": "stream",
     "text": [
      "[('большой', 19008), ('университет', 19008)]\n"
     ]
    }
   ],
   "source": [
    "#txtFull = [(txt0, ph0), (txt1, ph1)]\n",
    "PhData = []\n",
    "ph0 = ('большой')\n",
    "ph1 = ('университет')\n",
    "id0 = (19008)\n",
    "id1 = (19008)\n",
    "PhData = ph0, id0\n",
    "\n",
    "PhData = [(PhData), (ph1,id1)]\n",
    "print(PhData)"
   ]
  },
  {
   "cell_type": "code",
   "execution_count": null,
   "id": "4e4486c4",
   "metadata": {},
   "outputs": [],
   "source": []
  },
  {
   "cell_type": "code",
   "execution_count": 36,
   "id": "72fa8113",
   "metadata": {},
   "outputs": [
    {
     "ename": "NameError",
     "evalue": "name 'i' is not defined",
     "output_type": "error",
     "traceback": [
      "\u001b[1;31m---------------------------------------------------------------------------\u001b[0m",
      "\u001b[1;31mNameError\u001b[0m                                 Traceback (most recent call last)",
      "Cell \u001b[1;32mIn[36], line 3\u001b[0m\n\u001b[0;32m      1\u001b[0m \u001b[38;5;28;01mwith\u001b[39;00m \u001b[38;5;28mopen\u001b[39m(\u001b[38;5;124m'\u001b[39m\u001b[38;5;124mtomita app/test.txt\u001b[39m\u001b[38;5;124m'\u001b[39m, encoding\u001b[38;5;241m=\u001b[39m\u001b[38;5;124m'\u001b[39m\u001b[38;5;124mutf-8\u001b[39m\u001b[38;5;124m'\u001b[39m) \u001b[38;5;28;01mas\u001b[39;00m file:\n\u001b[0;32m      2\u001b[0m     lines \u001b[38;5;241m=\u001b[39m [line\u001b[38;5;241m.\u001b[39mrstrip() \u001b[38;5;28;01mfor\u001b[39;00m line \u001b[38;5;129;01min\u001b[39;00m file]\n\u001b[1;32m----> 3\u001b[0m \u001b[38;5;28;01mwhile\u001b[39;00m \u001b[43mi\u001b[49m \u001b[38;5;241m<\u001b[39m\u001b[38;5;241m=\u001b[39m \u001b[38;5;28mlen\u001b[39m(rslt[\u001b[38;5;124m'\u001b[39m\u001b[38;5;124mText\u001b[39m\u001b[38;5;124m'\u001b[39m]):\n\u001b[0;32m      4\u001b[0m     execute_write_query(connection, [lines], [rslt[\u001b[38;5;124m'\u001b[39m\u001b[38;5;124mText\u001b[39m\u001b[38;5;124m'\u001b[39m][i]])\n\u001b[0;32m      5\u001b[0m     \u001b[38;5;66;03m#execute_write_phrase(connection, [rslt['Text'][i]])\u001b[39;00m\n",
      "\u001b[1;31mNameError\u001b[0m: name 'i' is not defined"
     ]
    }
   ],
   "source": [
    "##----\n",
    "with open('tomita app/test.txt', encoding='utf-8') as file:\n",
    "    lines = [line.rstrip() for line in file]\n",
    "while i <= len(rslt['Text']):\n",
    "    execute_write_query(connection, [lines], [rslt['Text'][i]])\n",
    "    #execute_write_phrase(connection, [rslt['Text'][i]])\n",
    "    i=i+1"
   ]
  },
  {
   "cell_type": "code",
   "execution_count": 606,
   "id": "21dfa600",
   "metadata": {},
   "outputs": [],
   "source": [
    "with open('tomita app/test.txt', encoding='utf-8') as file:\n",
    "    lines = [line.rstrip() for line in file]"
   ]
  },
  {
   "cell_type": "code",
   "execution_count": 607,
   "id": "00b56fdd",
   "metadata": {},
   "outputs": [
    {
     "data": {
      "text/plain": [
       "\"['В Томске можно найти большой университет, белый дом, университетскую рощу']\""
      ]
     },
     "execution_count": 607,
     "metadata": {},
     "output_type": "execute_result"
    }
   ],
   "source": [
    "lines[0]"
   ]
  },
  {
   "cell_type": "code",
   "execution_count": 608,
   "id": "e5c099aa",
   "metadata": {},
   "outputs": [
    {
     "data": {
      "text/plain": [
       "'большой университет'"
      ]
     },
     "execution_count": 608,
     "metadata": {},
     "output_type": "execute_result"
    }
   ],
   "source": [
    "rslt['Text'][0]"
   ]
  },
  {
   "cell_type": "code",
   "execution_count": 40,
   "id": "c55fe26f",
   "metadata": {},
   "outputs": [],
   "source": [
    "##--\n",
    "#Execute SQL write to DB\n",
    "def execute_write_query(connection, txt, phr):\n",
    "    cursor.executemany(\"\"\" insert into dbo.Text(dbo.Text, Phrase) values (?, ?);\"\"\", ( [txt], [phr]))\n",
    "    cursor.commit()"
   ]
  },
  {
   "cell_type": "code",
   "execution_count": 41,
   "id": "236dd2a0",
   "metadata": {},
   "outputs": [],
   "source": [
    "##--\n",
    "#Execute SQL write to DB\n",
    "def execute_write_queryp(connection,  phr):\n",
    "    cursor.executemany(\"\"\" insert into dbo.Text(dbo.Text, Phrase) values (?);\"\"\", ( [phr]))\n",
    "    cursor.commit()"
   ]
  },
  {
   "cell_type": "code",
   "execution_count": 42,
   "id": "28b64566",
   "metadata": {},
   "outputs": [],
   "source": [
    "##--\n",
    "#Execute SQL write to DB\n",
    "def execute_write_queryt(connection, txt):\n",
    "    cursor.executemany(\"\"\" insert into dbo.Text(dbo.Text) values (?);\"\"\", ( [txt]))\n",
    "    cursor.commit()"
   ]
  },
  {
   "cell_type": "code",
   "execution_count": 43,
   "id": "582ea284",
   "metadata": {},
   "outputs": [
    {
     "ename": "NameError",
     "evalue": "name 'cursor' is not defined",
     "output_type": "error",
     "traceback": [
      "\u001b[1;31m---------------------------------------------------------------------------\u001b[0m",
      "\u001b[1;31mNameError\u001b[0m                                 Traceback (most recent call last)",
      "Cell \u001b[1;32mIn[43], line 1\u001b[0m\n\u001b[1;32m----> 1\u001b[0m \u001b[43mexecute_write_queryt\u001b[49m\u001b[43m(\u001b[49m\u001b[43mconnection\u001b[49m\u001b[43m,\u001b[49m\u001b[43m \u001b[49m\u001b[43m[\u001b[49m\u001b[43mrslt\u001b[49m\u001b[43m[\u001b[49m\u001b[38;5;124;43m'\u001b[39;49m\u001b[38;5;124;43mText\u001b[39;49m\u001b[38;5;124;43m'\u001b[39;49m\u001b[43m]\u001b[49m\u001b[43m[\u001b[49m\u001b[38;5;241;43m0\u001b[39;49m\u001b[43m]\u001b[49m\u001b[43m]\u001b[49m\u001b[43m)\u001b[49m\n",
      "Cell \u001b[1;32mIn[42], line 3\u001b[0m, in \u001b[0;36mexecute_write_queryt\u001b[1;34m(connection, txt)\u001b[0m\n\u001b[0;32m      2\u001b[0m \u001b[38;5;28;01mdef\u001b[39;00m \u001b[38;5;21mexecute_write_queryt\u001b[39m(connection, txt):\n\u001b[1;32m----> 3\u001b[0m     \u001b[43mcursor\u001b[49m\u001b[38;5;241m.\u001b[39mexecutemany(\u001b[38;5;124m\"\"\"\u001b[39m\u001b[38;5;124m insert into dbo.Text(dbo.Text) values (?);\u001b[39m\u001b[38;5;124m\"\"\"\u001b[39m, ( [txt]))\n\u001b[0;32m      4\u001b[0m     cursor\u001b[38;5;241m.\u001b[39mcommit()\n",
      "\u001b[1;31mNameError\u001b[0m: name 'cursor' is not defined"
     ]
    }
   ],
   "source": [
    "execute_write_queryt(connection, [rslt['Text'][0]])"
   ]
  },
  {
   "cell_type": "code",
   "execution_count": null,
   "id": "6a30d286",
   "metadata": {},
   "outputs": [],
   "source": []
  },
  {
   "cell_type": "code",
   "execution_count": 44,
   "id": "a82c49fd",
   "metadata": {},
   "outputs": [
    {
     "ename": "NameError",
     "evalue": "name 'cursor' is not defined",
     "output_type": "error",
     "traceback": [
      "\u001b[1;31m---------------------------------------------------------------------------\u001b[0m",
      "\u001b[1;31mNameError\u001b[0m                                 Traceback (most recent call last)",
      "Cell \u001b[1;32mIn[44], line 1\u001b[0m\n\u001b[1;32m----> 1\u001b[0m \u001b[43mexecute_write_queryp\u001b[49m\u001b[43m(\u001b[49m\u001b[43mconnection\u001b[49m\u001b[43m,\u001b[49m\u001b[43m \u001b[49m\u001b[43mlines\u001b[49m\u001b[43m)\u001b[49m\n",
      "Cell \u001b[1;32mIn[41], line 3\u001b[0m, in \u001b[0;36mexecute_write_queryp\u001b[1;34m(connection, phr)\u001b[0m\n\u001b[0;32m      2\u001b[0m \u001b[38;5;28;01mdef\u001b[39;00m \u001b[38;5;21mexecute_write_queryp\u001b[39m(connection,  phr):\n\u001b[1;32m----> 3\u001b[0m     \u001b[43mcursor\u001b[49m\u001b[38;5;241m.\u001b[39mexecutemany(\u001b[38;5;124m\"\"\"\u001b[39m\u001b[38;5;124m insert into dbo.Text(dbo.Text, Phrase) values (?);\u001b[39m\u001b[38;5;124m\"\"\"\u001b[39m, ( [phr]))\n\u001b[0;32m      4\u001b[0m     cursor\u001b[38;5;241m.\u001b[39mcommit()\n",
      "\u001b[1;31mNameError\u001b[0m: name 'cursor' is not defined"
     ]
    }
   ],
   "source": [
    "execute_write_queryp(connection, lines)"
   ]
  },
  {
   "cell_type": "code",
   "execution_count": null,
   "id": "81a5000d",
   "metadata": {},
   "outputs": [],
   "source": [
    "\n",
    "execute_write_query(connection, lines, [rslt['Text'][0]])"
   ]
  },
  {
   "cell_type": "code",
   "execution_count": 616,
   "id": "01a9dcaa",
   "metadata": {},
   "outputs": [
    {
     "data": {
      "text/html": [
       "<div>\n",
       "<style scoped>\n",
       "    .dataframe tbody tr th:only-of-type {\n",
       "        vertical-align: middle;\n",
       "    }\n",
       "\n",
       "    .dataframe tbody tr th {\n",
       "        vertical-align: top;\n",
       "    }\n",
       "\n",
       "    .dataframe thead th {\n",
       "        text-align: right;\n",
       "    }\n",
       "</style>\n",
       "<table border=\"1\" class=\"dataframe\">\n",
       "  <thead>\n",
       "    <tr style=\"text-align: right;\">\n",
       "      <th></th>\n",
       "      <th>Text</th>\n",
       "      <th>Type</th>\n",
       "      <th>toks</th>\n",
       "      <th>txt</th>\n",
       "    </tr>\n",
       "  </thead>\n",
       "  <tbody>\n",
       "    <tr>\n",
       "      <th>0</th>\n",
       "      <td>большой университет</td>\n",
       "      <td>TAuxDicArticle [СущПрил]</td>\n",
       "      <td>[большой, университет]</td>\n",
       "      <td>['В Томске можно найти большой университет, бе...</td>\n",
       "    </tr>\n",
       "    <tr>\n",
       "      <th>1</th>\n",
       "      <td>белый дом</td>\n",
       "      <td>TAuxDicArticle [СущПрил]</td>\n",
       "      <td>[белый, дом]</td>\n",
       "      <td>['В Томске можно найти большой университет, бе...</td>\n",
       "    </tr>\n",
       "    <tr>\n",
       "      <th>2</th>\n",
       "      <td>университетская роща</td>\n",
       "      <td>TAuxDicArticle [СущПрил]</td>\n",
       "      <td>[университетская, роща]</td>\n",
       "      <td>['В Томске можно найти большой университет, бе...</td>\n",
       "    </tr>\n",
       "  </tbody>\n",
       "</table>\n",
       "</div>"
      ],
      "text/plain": [
       "                   Text                      Type                     toks  \\\n",
       "0   большой университет  TAuxDicArticle [СущПрил]   [большой, университет]   \n",
       "1             белый дом  TAuxDicArticle [СущПрил]             [белый, дом]   \n",
       "2  университетская роща  TAuxDicArticle [СущПрил]  [университетская, роща]   \n",
       "\n",
       "                                                 txt  \n",
       "0  ['В Томске можно найти большой университет, бе...  \n",
       "1  ['В Томске можно найти большой университет, бе...  \n",
       "2  ['В Томске можно найти большой университет, бе...  "
      ]
     },
     "execution_count": 616,
     "metadata": {},
     "output_type": "execute_result"
    }
   ],
   "source": [
    "rslt"
   ]
  },
  {
   "cell_type": "code",
   "execution_count": 615,
   "id": "e3531e67",
   "metadata": {},
   "outputs": [],
   "source": [
    "for linr in range(len(rslt['Text'])):\n",
    "    rslt['txt']= lines[0]\n"
   ]
  },
  {
   "cell_type": "code",
   "execution_count": 72,
   "id": "ef9d333b",
   "metadata": {},
   "outputs": [],
   "source": [
    "cnxn = pyodbc.connect('Driver={SQL Server};'\n",
    "                      'Server=DESKTOP-D39A2O2\\SQLEXPRESS;'\n",
    "                      'Database=ngram;'\n",
    "                      'Trusted_Connection=yes;')\n",
    "cursor = cnxn.cursor()\n",
    "\n",
    "# Insert Dataframe into SQL Server:\n",
    "for index, row in rslt.iterrows():\n",
    "     cursor.execute(\"insert into dbo.Text(dbo.Text, Phrase) values (?, ?)\", row.txt, row.Text)\n",
    "cnxn.commit()\n",
    "cursor.close()"
   ]
  },
  {
   "cell_type": "code",
   "execution_count": null,
   "id": "4936a373",
   "metadata": {},
   "outputs": [],
   "source": []
  },
  {
   "cell_type": "code",
   "execution_count": null,
   "id": "483d875c",
   "metadata": {},
   "outputs": [],
   "source": [
    "execute_write_query(connection, [tmp])"
   ]
  },
  {
   "cell_type": "code",
   "execution_count": null,
   "id": "f4c291d7",
   "metadata": {},
   "outputs": [],
   "source": [
    "execute_write_phrase(connection, [rslt['Text'][0]])"
   ]
  },
  {
   "cell_type": "code",
   "execution_count": null,
   "id": "6cafe7fd",
   "metadata": {},
   "outputs": [],
   "source": [
    "rslt=insert_ngram(rslt)"
   ]
  },
  {
   "cell_type": "code",
   "execution_count": 611,
   "id": "de05a383",
   "metadata": {},
   "outputs": [],
   "source": [
    "rslt['toks'] = rslt.apply(lambda row: nltk.word_tokenize(row['Text']), axis=1)"
   ]
  },
  {
   "cell_type": "code",
   "execution_count": 612,
   "id": "91e33fe9",
   "metadata": {},
   "outputs": [
    {
     "data": {
      "text/html": [
       "<div>\n",
       "<style scoped>\n",
       "    .dataframe tbody tr th:only-of-type {\n",
       "        vertical-align: middle;\n",
       "    }\n",
       "\n",
       "    .dataframe tbody tr th {\n",
       "        vertical-align: top;\n",
       "    }\n",
       "\n",
       "    .dataframe thead th {\n",
       "        text-align: right;\n",
       "    }\n",
       "</style>\n",
       "<table border=\"1\" class=\"dataframe\">\n",
       "  <thead>\n",
       "    <tr style=\"text-align: right;\">\n",
       "      <th></th>\n",
       "      <th>Text</th>\n",
       "      <th>Type</th>\n",
       "      <th>toks</th>\n",
       "    </tr>\n",
       "  </thead>\n",
       "  <tbody>\n",
       "    <tr>\n",
       "      <th>0</th>\n",
       "      <td>большой университет</td>\n",
       "      <td>TAuxDicArticle [СущПрил]</td>\n",
       "      <td>[большой, университет]</td>\n",
       "    </tr>\n",
       "    <tr>\n",
       "      <th>1</th>\n",
       "      <td>белый дом</td>\n",
       "      <td>TAuxDicArticle [СущПрил]</td>\n",
       "      <td>[белый, дом]</td>\n",
       "    </tr>\n",
       "    <tr>\n",
       "      <th>2</th>\n",
       "      <td>университетская роща</td>\n",
       "      <td>TAuxDicArticle [СущПрил]</td>\n",
       "      <td>[университетская, роща]</td>\n",
       "    </tr>\n",
       "  </tbody>\n",
       "</table>\n",
       "</div>"
      ],
      "text/plain": [
       "                   Text                      Type                     toks\n",
       "0   большой университет  TAuxDicArticle [СущПрил]   [большой, университет]\n",
       "1             белый дом  TAuxDicArticle [СущПрил]             [белый, дом]\n",
       "2  университетская роща  TAuxDicArticle [СущПрил]  [университетская, роща]"
      ]
     },
     "execution_count": 612,
     "metadata": {},
     "output_type": "execute_result"
    }
   ],
   "source": [
    "rslt"
   ]
  },
  {
   "cell_type": "code",
   "execution_count": 80,
   "id": "38d12439",
   "metadata": {},
   "outputs": [],
   "source": [
    "morph_vocab = MorphVocab()\n",
    "segmenter = Segmenter()\n",
    "emb = NewsEmbedding()\n",
    "morph_tagger = NewsMorphTagger(emb)\n",
    "syntax_parser = NewsSyntaxParser(emb)\n",
    "doc = Doc(rslt['Text'][0])\n",
    "doc.segment(segmenter)\n",
    "doc.tag_morph(morph_tagger)\n",
    "#print(rslt['toks'][0][0].tag_morph(morph_tagger))\n"
   ]
  },
  {
   "cell_type": "code",
   "execution_count": 81,
   "id": "545672ff",
   "metadata": {},
   "outputs": [
    {
     "name": "stdout",
     "output_type": "stream",
     "text": [
      "[DocToken(stop=7, text='большой', pos='ADJ', feats=<Inan,Acc,Pos,Masc,Sing>), DocToken(start=8, stop=19, text='университет', pos='NOUN', feats=<Inan,Nom,Masc,Sing>)]\n"
     ]
    }
   ],
   "source": [
    "print(doc.tokens[:5])\n"
   ]
  },
  {
   "cell_type": "code",
   "execution_count": 82,
   "id": "7325b1ac",
   "metadata": {},
   "outputs": [
    {
     "name": "stdout",
     "output_type": "stream",
     "text": [
      "             большой ADJ|Animacy=Inan|Case=Acc|Degree=Pos|Gender=Masc|Number=Sing\n",
      "         университет NOUN|Animacy=Inan|Case=Nom|Gender=Masc|Number=Sing\n"
     ]
    }
   ],
   "source": [
    "doc.sents[0].morph.print()"
   ]
  },
  {
   "cell_type": "code",
   "execution_count": 89,
   "id": "e1f22280",
   "metadata": {},
   "outputs": [
    {
     "name": "stdout",
     "output_type": "stream",
     "text": [
      "ADJ большой\n",
      "NOUN университет\n"
     ]
    }
   ],
   "source": [
    "for token in doc.tokens:\n",
    "    print(token.pos, token.text)"
   ]
  },
  {
   "cell_type": "code",
   "execution_count": 95,
   "id": "d821ce7b",
   "metadata": {},
   "outputs": [],
   "source": [
    "#def getTextID(x):\n",
    "def getIDText(ph):\n",
    "    phr = ph\n",
    "    with pyodbc.connect('Driver={SQL Server};'\n",
    "                      'Server=DESKTOP-D39A2O2\\SQLEXPRESS;'\n",
    "                      'Database=ngram;'\n",
    "                      'Trusted_Connection=yes;') as conn:\n",
    "        cursor = conn.cursor()\n",
    "        cursor.execute(\"\"\"SELECT IDText FROM dbo.Text where Phrase = ?;\"\"\", phr)   \n",
    "        #cursor.commit()\n",
    "        records = cursor.fetchall()\n",
    "        cursor.close\n",
    "    return(records[0][0])"
   ]
  },
  {
   "cell_type": "code",
   "execution_count": 115,
   "id": "5b1c4655",
   "metadata": {},
   "outputs": [],
   "source": [
    "tk0=rslt['toks'][0][0]\n",
    "tk1 = rslt['toks'][0][1]\n",
    "tid = getIDText(rslt['Text'][0])"
   ]
  },
  {
   "cell_type": "code",
   "execution_count": 144,
   "id": "c9f60283",
   "metadata": {},
   "outputs": [],
   "source": [
    "def execute_write_toks(connection, txt):\n",
    "    cursor.executemany(\"\"\"insert into dbo.Ngram(Word) values (?) where IDText=?;\"\"\", ( [word],[tid]))\n",
    "    cursor.commit()"
   ]
  },
  {
   "cell_type": "code",
   "execution_count": 147,
   "id": "0d7c8c4d",
   "metadata": {},
   "outputs": [
    {
     "ename": "ProgrammingError",
     "evalue": "('The SQL contains 2 parameter markers, but 1 parameters were supplied', 'HY000')",
     "output_type": "error",
     "traceback": [
      "\u001b[1;31m---------------------------------------------------------------------------\u001b[0m",
      "\u001b[1;31mProgrammingError\u001b[0m                          Traceback (most recent call last)",
      "Cell \u001b[1;32mIn[147], line 1\u001b[0m\n\u001b[1;32m----> 1\u001b[0m \u001b[43mexecute_write_toks\u001b[49m\u001b[43m(\u001b[49m\u001b[43mconnection\u001b[49m\u001b[43m,\u001b[49m\u001b[43m \u001b[49m\u001b[43mtk0\u001b[49m\u001b[43m,\u001b[49m\u001b[43m \u001b[49m\u001b[43m[\u001b[49m\u001b[43mtid\u001b[49m\u001b[43m]\u001b[49m\u001b[43m)\u001b[49m\n",
      "Cell \u001b[1;32mIn[144], line 2\u001b[0m, in \u001b[0;36mexecute_write_toks\u001b[1;34m(connection, word, tid)\u001b[0m\n\u001b[0;32m      1\u001b[0m \u001b[38;5;28;01mdef\u001b[39;00m \u001b[38;5;21mexecute_write_toks\u001b[39m(connection, word, tid):\n\u001b[1;32m----> 2\u001b[0m     \u001b[43mcursor\u001b[49m\u001b[38;5;241;43m.\u001b[39;49m\u001b[43mexecutemany\u001b[49m\u001b[43m(\u001b[49m\u001b[38;5;124;43m\"\"\"\u001b[39;49m\u001b[38;5;124;43minsert into dbo.Ngram(Word) values (?) where IDText=?;\u001b[39;49m\u001b[38;5;124;43m\"\"\"\u001b[39;49m\u001b[43m,\u001b[49m\u001b[43m \u001b[49m\u001b[43m(\u001b[49m\u001b[43m \u001b[49m\u001b[43m[\u001b[49m\u001b[43mword\u001b[49m\u001b[43m]\u001b[49m\u001b[43m,\u001b[49m\u001b[43m[\u001b[49m\u001b[43mtid\u001b[49m\u001b[43m]\u001b[49m\u001b[43m)\u001b[49m\u001b[43m)\u001b[49m\n\u001b[0;32m      3\u001b[0m     cursor\u001b[38;5;241m.\u001b[39mcommit()\n",
      "\u001b[1;31mProgrammingError\u001b[0m: ('The SQL contains 2 parameter markers, but 1 parameters were supplied', 'HY000')"
     ]
    }
   ],
   "source": [
    "execute_write_toks(connection, tk0, [tid])"
   ]
  },
  {
   "cell_type": "code",
   "execution_count": 574,
   "id": "326f214e",
   "metadata": {},
   "outputs": [],
   "source": [
    "txt0 = (\"есть большие денные\")\n",
    "txt1 = (\"читать интересную книгу\")\n",
    "ph0 = (\"большие денные\")\n",
    "ph1 = (\"интересную книгу\")"
   ]
  },
  {
   "cell_type": "code",
   "execution_count": 579,
   "id": "71fb084e",
   "metadata": {},
   "outputs": [],
   "source": [
    "txtFull = [(txt0, ph0), (txt1, ph1)]"
   ]
  },
  {
   "cell_type": "code",
   "execution_count": 580,
   "id": "04777620",
   "metadata": {},
   "outputs": [
    {
     "data": {
      "text/plain": [
       "[('есть большие денные', 'большие денные'),\n",
       " ('читать интересную книгу', 'интересную книгу')]"
      ]
     },
     "execution_count": 580,
     "metadata": {},
     "output_type": "execute_result"
    }
   ],
   "source": [
    "txtFull"
   ]
  },
  {
   "cell_type": "code",
   "execution_count": 433,
   "id": "03a5da75",
   "metadata": {},
   "outputs": [
    {
     "ename": "TypeError",
     "evalue": "list.append() takes exactly one argument (2 given)",
     "output_type": "error",
     "traceback": [
      "\u001b[1;31m---------------------------------------------------------------------------\u001b[0m",
      "\u001b[1;31mTypeError\u001b[0m                                 Traceback (most recent call last)",
      "Cell \u001b[1;32mIn[433], line 1\u001b[0m\n\u001b[1;32m----> 1\u001b[0m \u001b[43mtxtFull\u001b[49m\u001b[38;5;241;43m.\u001b[39;49m\u001b[43mappend\u001b[49m\u001b[43m(\u001b[49m\u001b[43m(\u001b[49m\u001b[43mtxt0\u001b[49m\u001b[43m)\u001b[49m\u001b[43m,\u001b[49m\u001b[43m \u001b[49m\u001b[43m(\u001b[49m\u001b[43mtxt1\u001b[49m\u001b[43m)\u001b[49m\u001b[43m)\u001b[49m\n\u001b[0;32m      2\u001b[0m phFull\u001b[38;5;241m.\u001b[39mappend((ph0, ph1))\n\u001b[0;32m      3\u001b[0m idfull\u001b[38;5;241m.\u001b[39mappend((idt0, idt1))\n",
      "\u001b[1;31mTypeError\u001b[0m: list.append() takes exactly one argument (2 given)"
     ]
    }
   ],
   "source": [
    "txtFull.append((txt0, txt1))\n",
    "phFull.append((ph0, ph1))\n",
    "idfull.append((idt0, idt1))"
   ]
  },
  {
   "cell_type": "code",
   "execution_count": 482,
   "id": "2e26fc9c",
   "metadata": {},
   "outputs": [],
   "source": [
    "fullData=[]"
   ]
  },
  {
   "cell_type": "code",
   "execution_count": 693,
   "id": "6b1677a6",
   "metadata": {},
   "outputs": [
    {
     "data": {
      "text/plain": [
       "[('есть большие денные', 'большие денные'),\n",
       " ('читать интересную книгу', 'интересную книгу')]"
      ]
     },
     "execution_count": 693,
     "metadata": {},
     "output_type": "execute_result"
    }
   ],
   "source": [
    "txtFull"
   ]
  },
  {
   "cell_type": "code",
   "execution_count": 484,
   "id": "42d60374",
   "metadata": {},
   "outputs": [
    {
     "data": {
      "text/plain": [
       "[('большие денные', 'интересную книгу')]"
      ]
     },
     "execution_count": 484,
     "metadata": {},
     "output_type": "execute_result"
    }
   ],
   "source": [
    "phFull"
   ]
  },
  {
   "cell_type": "code",
   "execution_count": 485,
   "id": "c7581663",
   "metadata": {},
   "outputs": [],
   "source": [
    "fullData.append(txtFull + phFull)"
   ]
  },
  {
   "cell_type": "code",
   "execution_count": 486,
   "id": "667ef96b",
   "metadata": {},
   "outputs": [
    {
     "data": {
      "text/plain": [
       "[[('есть большие денные', 'читать интересную книгу'),\n",
       "  ('большие денные', 'интересную книгу')]]"
      ]
     },
     "execution_count": 486,
     "metadata": {},
     "output_type": "execute_result"
    }
   ],
   "source": [
    "fullData"
   ]
  },
  {
   "cell_type": "code",
   "execution_count": 368,
   "id": "f9fe21a2",
   "metadata": {},
   "outputs": [],
   "source": [
    "def execute_write_queryp(connection,  tx):\n",
    "    cursor.executemany(\"\"\" insert into dbo.Text(dbo.Text, dbo.Phrase) values (?,?);\"\"\", [tx])\n",
    "    cursor.commit()"
   ]
  },
  {
   "cell_type": "code",
   "execution_count": 361,
   "id": "d6d5914f",
   "metadata": {},
   "outputs": [
    {
     "data": {
      "text/plain": [
       "[('большие денные', 'интересную книгу')]"
      ]
     },
     "execution_count": 361,
     "metadata": {},
     "output_type": "execute_result"
    }
   ],
   "source": [
    "phFull"
   ]
  },
  {
   "cell_type": "code",
   "execution_count": 362,
   "id": "87f8e611",
   "metadata": {},
   "outputs": [
    {
     "data": {
      "text/plain": [
       "'есть большие денные'"
      ]
     },
     "execution_count": 362,
     "metadata": {},
     "output_type": "execute_result"
    }
   ],
   "source": [
    "txtFull[0][0]\n"
   ]
  },
  {
   "cell_type": "code",
   "execution_count": 363,
   "id": "cca80870",
   "metadata": {},
   "outputs": [
    {
     "ename": "ProgrammingError",
     "evalue": "('The SQL contains 2 parameter markers, but 1 parameters were supplied', 'HY000')",
     "output_type": "error",
     "traceback": [
      "\u001b[1;31m---------------------------------------------------------------------------\u001b[0m",
      "\u001b[1;31mProgrammingError\u001b[0m                          Traceback (most recent call last)",
      "Cell \u001b[1;32mIn[363], line 1\u001b[0m\n\u001b[1;32m----> 1\u001b[0m \u001b[43mexecute_write_queryp\u001b[49m\u001b[43m(\u001b[49m\u001b[43mconnection\u001b[49m\u001b[43m,\u001b[49m\u001b[43m  \u001b[49m\u001b[43m[\u001b[49m\u001b[43mtxtFull\u001b[49m\u001b[43m]\u001b[49m\u001b[43m,\u001b[49m\u001b[43m \u001b[49m\u001b[43m[\u001b[49m\u001b[43mphFull\u001b[49m\u001b[43m]\u001b[49m\u001b[43m)\u001b[49m\n",
      "Cell \u001b[1;32mIn[360], line 2\u001b[0m, in \u001b[0;36mexecute_write_queryp\u001b[1;34m(connection, tx, ph)\u001b[0m\n\u001b[0;32m      1\u001b[0m \u001b[38;5;28;01mdef\u001b[39;00m \u001b[38;5;21mexecute_write_queryp\u001b[39m(connection,  tx, ph):\n\u001b[1;32m----> 2\u001b[0m     \u001b[43mcursor\u001b[49m\u001b[38;5;241;43m.\u001b[39;49m\u001b[43mexecutemany\u001b[49m\u001b[43m(\u001b[49m\u001b[38;5;124;43m\"\"\"\u001b[39;49m\u001b[38;5;124;43m insert into dbo.Text(dbo.Text, dbo.Phrase) values (?,?);\u001b[39;49m\u001b[38;5;124;43m\"\"\"\u001b[39;49m\u001b[43m,\u001b[49m\u001b[43m \u001b[49m\u001b[43m(\u001b[49m\u001b[43m \u001b[49m\u001b[43mtx\u001b[49m\u001b[43m,\u001b[49m\u001b[43m \u001b[49m\u001b[43mph\u001b[49m\u001b[43m)\u001b[49m\u001b[43m)\u001b[49m\n\u001b[0;32m      3\u001b[0m     cursor\u001b[38;5;241m.\u001b[39mcommit()\n",
      "\u001b[1;31mProgrammingError\u001b[0m: ('The SQL contains 2 parameter markers, but 1 parameters were supplied', 'HY000')"
     ]
    }
   ],
   "source": [
    "\n",
    "execute_write_queryp(connection,  [txtFull], [phFull])"
   ]
  },
  {
   "cell_type": "code",
   "execution_count": 420,
   "id": "9c61cbc3",
   "metadata": {},
   "outputs": [],
   "source": [
    "def execute_write_queryp(connection,  tx, ph):\n",
    "    cursor.executemany(\"\"\" insert into dbo.Text(Text, Phrase) values (?, ?);\"\"\", [tx], [ph])\n",
    "    cursor.commit()"
   ]
  },
  {
   "cell_type": "code",
   "execution_count": 411,
   "id": "0fcc9214",
   "metadata": {},
   "outputs": [
    {
     "data": {
      "text/plain": [
       "[(1, 'value1', 'value2'), (2, 'value3', 'value4'), (3, 'value5', 'value6')]"
      ]
     },
     "execution_count": 411,
     "metadata": {},
     "output_type": "execute_result"
    }
   ],
   "source": [
    "data"
   ]
  },
  {
   "cell_type": "code",
   "execution_count": null,
   "id": "42b877ac",
   "metadata": {},
   "outputs": [],
   "source": [
    "data = [('John', 'Doe'), ('Jane', 'Doe'), ('Bob', 'Smith')]\n",
    "\n",
    "for d in data:\n",
    "    cursor.execute(\"INSERT INTO mytable (first_name, last_name) VALUES (?, ?)\", d)"
   ]
  },
  {
   "cell_type": "code",
   "execution_count": 365,
   "id": "83efcad9",
   "metadata": {},
   "outputs": [
    {
     "name": "stdout",
     "output_type": "stream",
     "text": [
      "[('есть большие денные', 'читать интересную книгу'), ('большие денные', 'интересную книгу')]\n"
     ]
    }
   ],
   "source": [
    "#fullData\n",
    "for d in fullData:\n",
    "    print(d)\n"
   ]
  },
  {
   "cell_type": "code",
   "execution_count": 487,
   "id": "0c7e0729",
   "metadata": {},
   "outputs": [
    {
     "data": {
      "text/plain": [
       "('есть большие денные', 'читать интересную книгу')"
      ]
     },
     "execution_count": 487,
     "metadata": {},
     "output_type": "execute_result"
    }
   ],
   "source": [
    "fullData[0][0]\n",
    "#fullData[0][1]"
   ]
  },
  {
   "cell_type": "code",
   "execution_count": 488,
   "id": "9bf41bca",
   "metadata": {},
   "outputs": [],
   "source": [
    "def execute_write_queryp(connection,  tx):\n",
    "    cursor.executemany(\"\"\" insert into dbo.Text(dbo.Text) values (?);\"\"\", [tx])\n",
    "    cursor.commit()"
   ]
  },
  {
   "cell_type": "code",
   "execution_count": 489,
   "id": "213d5490",
   "metadata": {},
   "outputs": [],
   "source": [
    "for d in fullData[0][0]:\n",
    "    execute_write_queryp(connection,  [d])"
   ]
  },
  {
   "cell_type": "code",
   "execution_count": 435,
   "id": "1cbad6cf",
   "metadata": {},
   "outputs": [
    {
     "data": {
      "text/plain": [
       "[[('есть большие денные', 'читать интересную книгу'),\n",
       "  ('большие денные', 'интересную книгу')]]"
      ]
     },
     "execution_count": 435,
     "metadata": {},
     "output_type": "execute_result"
    }
   ],
   "source": [
    "fullData"
   ]
  },
  {
   "cell_type": "code",
   "execution_count": 630,
   "id": "af0afa14",
   "metadata": {},
   "outputs": [
    {
     "data": {
      "text/plain": [
       "[('есть большие денные', 'большие денные'),\n",
       " ('читать интересную книгу', 'интересную книгу')]"
      ]
     },
     "execution_count": 630,
     "metadata": {},
     "output_type": "execute_result"
    }
   ],
   "source": [
    "txtFull"
   ]
  },
  {
   "cell_type": "code",
   "execution_count": 408,
   "id": "08402505",
   "metadata": {},
   "outputs": [
    {
     "data": {
      "text/plain": [
       "'интересную книгу'"
      ]
     },
     "execution_count": 408,
     "metadata": {},
     "output_type": "execute_result"
    }
   ],
   "source": [
    "phFull[0][1]"
   ]
  },
  {
   "cell_type": "code",
   "execution_count": 432,
   "id": "007a0b9d",
   "metadata": {},
   "outputs": [
    {
     "data": {
      "text/plain": [
       "[('есть большие денные', 'читать интересную книгу')]"
      ]
     },
     "execution_count": 432,
     "metadata": {},
     "output_type": "execute_result"
    }
   ],
   "source": []
  },
  {
   "cell_type": "code",
   "execution_count": 431,
   "id": "1a740fa1",
   "metadata": {},
   "outputs": [
    {
     "ename": "TypeError",
     "evalue": "function takes exactly 2 arguments (3 given)",
     "output_type": "error",
     "traceback": [
      "\u001b[1;31m---------------------------------------------------------------------------\u001b[0m",
      "\u001b[1;31mTypeError\u001b[0m                                 Traceback (most recent call last)",
      "Cell \u001b[1;32mIn[431], line 2\u001b[0m\n\u001b[0;32m      1\u001b[0m \u001b[38;5;28;01mfor\u001b[39;00m i \u001b[38;5;129;01min\u001b[39;00m \u001b[38;5;28mrange\u001b[39m(\u001b[38;5;28mlen\u001b[39m(txtFull[\u001b[38;5;241m0\u001b[39m])):\n\u001b[1;32m----> 2\u001b[0m     \u001b[43mexecute_write_queryp\u001b[49m\u001b[43m(\u001b[49m\u001b[43mconnection\u001b[49m\u001b[43m,\u001b[49m\u001b[43m  \u001b[49m\u001b[43m[\u001b[49m\u001b[43mtxtFull\u001b[49m\u001b[43m[\u001b[49m\u001b[38;5;241;43m0\u001b[39;49m\u001b[43m]\u001b[49m\u001b[43m]\u001b[49m\u001b[43m,\u001b[49m\u001b[43m[\u001b[49m\u001b[43mphFull\u001b[49m\u001b[43m[\u001b[49m\u001b[38;5;241;43m0\u001b[39;49m\u001b[43m]\u001b[49m\u001b[43m]\u001b[49m\u001b[43m)\u001b[49m\n",
      "Cell \u001b[1;32mIn[420], line 2\u001b[0m, in \u001b[0;36mexecute_write_queryp\u001b[1;34m(connection, tx, ph)\u001b[0m\n\u001b[0;32m      1\u001b[0m \u001b[38;5;28;01mdef\u001b[39;00m \u001b[38;5;21mexecute_write_queryp\u001b[39m(connection,  tx, ph):\n\u001b[1;32m----> 2\u001b[0m     \u001b[43mcursor\u001b[49m\u001b[38;5;241;43m.\u001b[39;49m\u001b[43mexecutemany\u001b[49m\u001b[43m(\u001b[49m\u001b[38;5;124;43m\"\"\"\u001b[39;49m\u001b[38;5;124;43m insert into dbo.Text(Text, Phrase) values (?, ?);\u001b[39;49m\u001b[38;5;124;43m\"\"\"\u001b[39;49m\u001b[43m,\u001b[49m\u001b[43m \u001b[49m\u001b[43m[\u001b[49m\u001b[43mtx\u001b[49m\u001b[43m]\u001b[49m\u001b[43m,\u001b[49m\u001b[43m \u001b[49m\u001b[43m[\u001b[49m\u001b[43mph\u001b[49m\u001b[43m]\u001b[49m\u001b[43m)\u001b[49m\n\u001b[0;32m      3\u001b[0m     cursor\u001b[38;5;241m.\u001b[39mcommit()\n",
      "\u001b[1;31mTypeError\u001b[0m: function takes exactly 2 arguments (3 given)"
     ]
    }
   ],
   "source": [
    "for i in range(len(txtFull[0])):\n",
    "    execute_write_queryp(connection,  [txtFull[0]],[phFull[0]])\n",
    "#execute_write_queryp(connection, [txtFull[0]], [phFull[0]])"
   ]
  },
  {
   "cell_type": "code",
   "execution_count": 549,
   "id": "fa98e3da",
   "metadata": {},
   "outputs": [
    {
     "ename": "ProgrammingError",
     "evalue": "The cursor's connection has been closed.",
     "output_type": "error",
     "traceback": [
      "\u001b[1;31m---------------------------------------------------------------------------\u001b[0m",
      "\u001b[1;31mProgrammingError\u001b[0m                          Traceback (most recent call last)",
      "Cell \u001b[1;32mIn[549], line 1\u001b[0m\n\u001b[1;32m----> 1\u001b[0m \u001b[43mcursor\u001b[49m\u001b[38;5;241;43m.\u001b[39;49m\u001b[43mexecutemany\u001b[49m\u001b[43m(\u001b[49m\u001b[38;5;124;43m\"\"\"\u001b[39;49m\n\u001b[0;32m      2\u001b[0m \u001b[38;5;124;43m                  INSERT INTO Components\u001b[39;49m\n\u001b[0;32m      3\u001b[0m \u001b[38;5;124;43m                  ([Database Number],Description, [Warehouse Code],[Supplier Code], Usage, Major1, Minor1)\u001b[39;49m\n\u001b[0;32m      4\u001b[0m \u001b[38;5;124;43m                  VALUES (?,?,?,?,?,?,?)\u001b[39;49m\n\u001b[0;32m      5\u001b[0m \u001b[38;5;124;43m                  \u001b[39;49m\u001b[38;5;124;43m\"\"\"\u001b[39;49m\u001b[43m)\u001b[49m, input_list\n\u001b[0;32m      6\u001b[0m cursor\u001b[38;5;241m.\u001b[39mcommit()\n",
      "\u001b[1;31mProgrammingError\u001b[0m: The cursor's connection has been closed."
     ]
    }
   ],
   "source": [
    "cursor.executemany(\"\"\"\n",
    "                  INSERT INTO Components\n",
    "                  ([Database Number],Description, [Warehouse Code],[Supplier Code], Usage, Major1, Minor1)\n",
    "                  VALUES (?,?,?,?,?,?,?)\n",
    "                  \"\"\"), input_list\n",
    "cursor.commit()"
   ]
  },
  {
   "cell_type": "code",
   "execution_count": 787,
   "id": "e8cab026",
   "metadata": {},
   "outputs": [],
   "source": [
    "import pyodbc\n",
    "\n",
    "conn = pyodbc.connect('DRIVER={SQL Server};SERVER=DESKTOP-D39A2O2\\SQLEXPRESS;DATABASE=ngram;''Trusted_Connection=yes;')\n"
   ]
  },
  {
   "cell_type": "code",
   "execution_count": 788,
   "id": "280c1d10",
   "metadata": {},
   "outputs": [],
   "source": [
    "cursor = conn.cursor()"
   ]
  },
  {
   "cell_type": "code",
   "execution_count": 789,
   "id": "ac8c846e",
   "metadata": {},
   "outputs": [
    {
     "data": {
      "text/plain": [
       "<pyodbc.Cursor at 0x29368cfebb0>"
      ]
     },
     "execution_count": 789,
     "metadata": {},
     "output_type": "execute_result"
    }
   ],
   "source": [
    "cursor.execute('BEGIN TRANSACTION')"
   ]
  },
  {
   "cell_type": "code",
   "execution_count": 569,
   "id": "b70d2ed9",
   "metadata": {},
   "outputs": [],
   "source": [
    "data = ('John', 'Doe'), ('Jane', 'Doe'), ('Bob', 'Smith'), ('Томск', 'ТГУ')"
   ]
  },
  {
   "cell_type": "code",
   "execution_count": 570,
   "id": "11a23d12",
   "metadata": {},
   "outputs": [
    {
     "data": {
      "text/plain": [
       "(('John', 'Doe'), ('Jane', 'Doe'), ('Bob', 'Smith'), ('Томск', 'ТГУ'))"
      ]
     },
     "execution_count": 570,
     "metadata": {},
     "output_type": "execute_result"
    }
   ],
   "source": [
    "data"
   ]
  },
  {
   "cell_type": "code",
   "execution_count": 563,
   "id": "5c9c3304",
   "metadata": {},
   "outputs": [
    {
     "ename": "ProgrammingError",
     "evalue": "('42000', '[42000] [Microsoft][ODBC SQL Server Driver][SQL Server]Неправильный синтаксис около конструкции \",\". (102) (SQLExecDirectW); [42000] [Microsoft][ODBC SQL Server Driver][SQL Server]Не удалось выполнить подготовку инструкций. (8180)')",
     "output_type": "error",
     "traceback": [
      "\u001b[1;31m---------------------------------------------------------------------------\u001b[0m",
      "\u001b[1;31mProgrammingError\u001b[0m                          Traceback (most recent call last)",
      "Cell \u001b[1;32mIn[563], line 1\u001b[0m\n\u001b[1;32m----> 1\u001b[0m \u001b[43mcursor\u001b[49m\u001b[38;5;241;43m.\u001b[39;49m\u001b[43mexecutemany\u001b[49m\u001b[43m(\u001b[49m\n\u001b[0;32m      2\u001b[0m \u001b[43m    \u001b[49m\u001b[38;5;124;43;03m\"\"\"\u001b[39;49;00m\n\u001b[0;32m      3\u001b[0m \u001b[38;5;124;43;03m    INSERT INTO dbo.Text(dbo.Text, Phrase) \u001b[39;49;00m\n\u001b[0;32m      4\u001b[0m \u001b[38;5;124;43;03m    VALUES\u001b[39;49;00m\n\u001b[0;32m      5\u001b[0m \u001b[38;5;124;43;03m    (?, ?),\u001b[39;49;00m\n\u001b[0;32m      6\u001b[0m \u001b[38;5;124;43;03m     \u001b[39;49;00m\n\u001b[0;32m      7\u001b[0m \u001b[38;5;124;43;03m    \"\"\"\u001b[39;49;00m\u001b[43m,\u001b[49m\u001b[43m \u001b[49m\u001b[43mdata\u001b[49m\n\u001b[0;32m      8\u001b[0m \u001b[43m)\u001b[49m\n\u001b[0;32m      9\u001b[0m conn\u001b[38;5;241m.\u001b[39mcommit()\n",
      "\u001b[1;31mProgrammingError\u001b[0m: ('42000', '[42000] [Microsoft][ODBC SQL Server Driver][SQL Server]Неправильный синтаксис около конструкции \",\". (102) (SQLExecDirectW); [42000] [Microsoft][ODBC SQL Server Driver][SQL Server]Не удалось выполнить подготовку инструкций. (8180)')"
     ]
    }
   ],
   "source": [
    "cursor.executemany(\n",
    "    \"\"\"\n",
    "    INSERT INTO dbo.Text(dbo.Text, Phrase) \n",
    "    VALUES\n",
    "    (?, ?),\n",
    "     \n",
    "    \"\"\", data\n",
    ")\n",
    "conn.commit()"
   ]
  },
  {
   "cell_type": "code",
   "execution_count": 790,
   "id": "9bcb3a52",
   "metadata": {},
   "outputs": [
    {
     "name": "stdout",
     "output_type": "stream",
     "text": [
      "('есть большие денные', 'большие денные')\n",
      "('читать интересную книгу', 'интересную книгу')\n"
     ]
    }
   ],
   "source": [
    "for d in txtFull:\n",
    "    print(d)\n",
    "    cursor.execute(\" insert into dbo.Text(dbo.Text, Phrase) values (?, ?) \", d)\n",
    "    conn.commit()"
   ]
  },
  {
   "cell_type": "code",
   "execution_count": 585,
   "id": "ab9382ad",
   "metadata": {},
   "outputs": [],
   "source": [
    "conn.close()"
   ]
  },
  {
   "cell_type": "code",
   "execution_count": 818,
   "id": "df5f3d28",
   "metadata": {},
   "outputs": [
    {
     "data": {
      "text/plain": [
       "[(((((('большой', 19007), ('университет', 19007)), ('белый', 19008)),\n",
       "    ('дом', 19008)),\n",
       "   ('университетская', 19009)),\n",
       "  ('роща', 19009))]"
      ]
     },
     "execution_count": 818,
     "metadata": {},
     "output_type": "execute_result"
    }
   ],
   "source": [
    "PhData"
   ]
  },
  {
   "cell_type": "code",
   "execution_count": 811,
   "id": "6b495612",
   "metadata": {},
   "outputs": [
    {
     "name": "stdout",
     "output_type": "stream",
     "text": [
      "[(((((('большой', 19007), ('университет', 19007)), ('белый', 19008)), ('дом', 19008)), ('университетская', 19009)), ('роща', 19009))]\n"
     ]
    },
    {
     "ename": "ProgrammingError",
     "evalue": "('The SQL contains 2 parameter markers, but 1 parameters were supplied', 'HY000')",
     "output_type": "error",
     "traceback": [
      "\u001b[1;31m---------------------------------------------------------------------------\u001b[0m",
      "\u001b[1;31mProgrammingError\u001b[0m                          Traceback (most recent call last)",
      "Cell \u001b[1;32mIn[811], line 4\u001b[0m\n\u001b[0;32m      2\u001b[0m \u001b[38;5;28;01mfor\u001b[39;00m d \u001b[38;5;129;01min\u001b[39;00m PhData:\n\u001b[0;32m      3\u001b[0m     \u001b[38;5;28mprint\u001b[39m(PhData)\n\u001b[1;32m----> 4\u001b[0m     \u001b[43mcursor\u001b[49m\u001b[38;5;241;43m.\u001b[39;49m\u001b[43mexecute\u001b[49m\u001b[43m(\u001b[49m\u001b[38;5;124;43m\"\u001b[39;49m\u001b[38;5;124;43m insert into dbo.Ngram(dbo.Word, IDText) values (?, ?) \u001b[39;49m\u001b[38;5;124;43m\"\u001b[39;49m\u001b[43m,\u001b[49m\u001b[43m \u001b[49m\u001b[43m[\u001b[49m\u001b[43md\u001b[49m\u001b[43m]\u001b[49m\u001b[43m)\u001b[49m\n\u001b[0;32m      5\u001b[0m     conn\u001b[38;5;241m.\u001b[39mcommit()\n",
      "\u001b[1;31mProgrammingError\u001b[0m: ('The SQL contains 2 parameter markers, but 1 parameters were supplied', 'HY000')"
     ]
    }
   ],
   "source": [
    "PhData\n",
    "for d in PhData:\n",
    "    print(PhData)\n",
    "    cursor.execute(\" insert into dbo.Ngram(dbo.Word, IDText) values (?, ?) \", d)\n",
    "    conn.commit()"
   ]
  }
 ],
 "metadata": {
  "kernelspec": {
   "display_name": "Python 3 (ipykernel)",
   "language": "python",
   "name": "python3"
  },
  "language_info": {
   "codemirror_mode": {
    "name": "ipython",
    "version": 3
   },
   "file_extension": ".py",
   "mimetype": "text/x-python",
   "name": "python",
   "nbconvert_exporter": "python",
   "pygments_lexer": "ipython3",
   "version": "3.11.4"
  }
 },
 "nbformat": 4,
 "nbformat_minor": 5
}
